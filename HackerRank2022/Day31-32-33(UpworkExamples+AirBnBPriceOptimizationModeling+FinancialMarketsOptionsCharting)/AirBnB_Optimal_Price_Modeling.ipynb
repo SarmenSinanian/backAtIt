{
 "cells": [
  {
   "cell_type": "code",
   "execution_count": 1,
   "metadata": {
    "colab": {},
    "colab_type": "code",
    "id": "XsUEp8oxvHby"
   },
   "outputs": [],
   "source": [
    "import pandas as pd"
   ]
  },
  {
   "cell_type": "code",
   "execution_count": 2,
   "metadata": {
    "colab": {
     "base_uri": "https://localhost:8080/",
     "height": 34
    },
    "colab_type": "code",
    "id": "Sp5R6-bgxyju",
    "outputId": "81ad9236-68e6-4b7c-c9bb-02e9dcf31385"
   },
   "outputs": [
    {
     "data": {
      "text/plain": [
       "(22552, 96)"
      ]
     },
     "execution_count": 2,
     "metadata": {},
     "output_type": "execute_result"
    }
   ],
   "source": [
    "# WRITE IN CURRENT LOCAL PATH TO listings_summary.csv\n",
    "\n",
    "df = pd.read_csv(r'listings_summary.csv')\n",
    "df.shape"
   ]
  },
  {
   "cell_type": "code",
   "execution_count": 3,
   "metadata": {
    "colab": {},
    "colab_type": "code",
    "id": "0O1fzFEKoZDm"
   },
   "outputs": [],
   "source": [
    "columns = [\n",
    "    'neighbourhood_group_cleansed',\n",
    "    'room_type',\n",
    "    'accommodates',\n",
    "    'bathrooms',\n",
    "    'bedrooms',\n",
    "    'beds',\n",
    "    'bed_type',\n",
    "    'amenities',\n",
    "    'price',\n",
    "    'security_deposit',\n",
    "    'cleaning_fee',\n",
    "    'minimum_nights',\n",
    "    'instant_bookable'         \n",
    "]\n",
    "\n",
    "df = df[columns]"
   ]
  },
  {
   "cell_type": "code",
   "execution_count": 4,
   "metadata": {
    "colab": {
     "base_uri": "https://localhost:8080/",
     "height": 259
    },
    "colab_type": "code",
    "id": "0qLvVzUdVQOv",
    "outputId": "6590b6fc-d06e-4391-e393-8301786fb26a"
   },
   "outputs": [
    {
     "data": {
      "text/plain": [
       "room_type           0\n",
       "accommodates        0\n",
       "bathrooms           0\n",
       "bedrooms            0\n",
       "beds                0\n",
       "bed_type            0\n",
       "amenities           0\n",
       "price               0\n",
       "security_deposit    0\n",
       "cleaning_fee        0\n",
       "minimum_nights      0\n",
       "instant_bookable    0\n",
       "neighborhood        0\n",
       "dtype: int64"
      ]
     },
     "execution_count": 4,
     "metadata": {},
     "output_type": "execute_result"
    }
   ],
   "source": [
    "df['bathrooms'] = df['bathrooms'].fillna(df['bathrooms'].mean()).astype(float)\n",
    "df['bedrooms'] = df['bedrooms'].fillna(df['bedrooms'].mean()).astype(float)\n",
    "df['beds'] = df['beds'].fillna(df['beds'].mean()).astype(float)\n",
    "df['security_deposit'] = df['security_deposit'].fillna('$0.00')\n",
    "df['cleaning_fee'] = df['cleaning_fee'].fillna('$0.00')\n",
    "\n",
    "df['price'] = df['price'].str.replace('$', '').str.replace(',', '').astype(float)\n",
    "df['security_deposit'] = df['security_deposit'].str.replace('$', '').str.replace(',', '').astype(float)\n",
    "df['cleaning_fee'] = df['cleaning_fee'].str.replace('$', '').str.replace(',', '').astype(float)\n",
    "\n",
    "df['neighborhood'] = df['neighbourhood_group_cleansed']\n",
    "df = df.drop(columns=['neighbourhood_group_cleansed'])\n",
    "df.isna().sum()"
   ]
  },
  {
   "cell_type": "code",
   "execution_count": 5,
   "metadata": {
    "colab": {
     "base_uri": "https://localhost:8080/",
     "height": 262
    },
    "colab_type": "code",
    "id": "9oipK0V2Wsu9",
    "outputId": "1801790f-62a6-4520-97b6-197fbba8f43d"
   },
   "outputs": [
    {
     "data": {
      "text/html": [
       "<div>\n",
       "<style scoped>\n",
       "    .dataframe tbody tr th:only-of-type {\n",
       "        vertical-align: middle;\n",
       "    }\n",
       "\n",
       "    .dataframe tbody tr th {\n",
       "        vertical-align: top;\n",
       "    }\n",
       "\n",
       "    .dataframe thead th {\n",
       "        text-align: right;\n",
       "    }\n",
       "</style>\n",
       "<table border=\"1\" class=\"dataframe\">\n",
       "  <thead>\n",
       "    <tr style=\"text-align: right;\">\n",
       "      <th></th>\n",
       "      <th>room_type</th>\n",
       "      <th>accommodates</th>\n",
       "      <th>bathrooms</th>\n",
       "      <th>bedrooms</th>\n",
       "      <th>beds</th>\n",
       "      <th>bed_type</th>\n",
       "      <th>amenities</th>\n",
       "      <th>price</th>\n",
       "      <th>security_deposit</th>\n",
       "      <th>cleaning_fee</th>\n",
       "      <th>minimum_nights</th>\n",
       "      <th>instant_bookable</th>\n",
       "      <th>neighborhood</th>\n",
       "    </tr>\n",
       "  </thead>\n",
       "  <tbody>\n",
       "    <tr>\n",
       "      <th>0</th>\n",
       "      <td>Entire home/apt</td>\n",
       "      <td>3</td>\n",
       "      <td>1.0</td>\n",
       "      <td>1.0</td>\n",
       "      <td>2.0</td>\n",
       "      <td>Real Bed</td>\n",
       "      <td>{TV,\"Cable TV\",Wifi,Kitchen,Gym,Heating,\"Famil...</td>\n",
       "      <td>60.0</td>\n",
       "      <td>200.0</td>\n",
       "      <td>30.0</td>\n",
       "      <td>4</td>\n",
       "      <td>0</td>\n",
       "      <td>Mitte</td>\n",
       "    </tr>\n",
       "    <tr>\n",
       "      <th>1</th>\n",
       "      <td>Private room</td>\n",
       "      <td>2</td>\n",
       "      <td>1.0</td>\n",
       "      <td>1.0</td>\n",
       "      <td>1.0</td>\n",
       "      <td>Real Bed</td>\n",
       "      <td>{Wifi,Kitchen,Elevator,Heating,Washer,Essentia...</td>\n",
       "      <td>17.0</td>\n",
       "      <td>0.0</td>\n",
       "      <td>0.0</td>\n",
       "      <td>2</td>\n",
       "      <td>0</td>\n",
       "      <td>Pankow</td>\n",
       "    </tr>\n",
       "    <tr>\n",
       "      <th>2</th>\n",
       "      <td>Entire home/apt</td>\n",
       "      <td>4</td>\n",
       "      <td>1.0</td>\n",
       "      <td>1.0</td>\n",
       "      <td>2.0</td>\n",
       "      <td>Real Bed</td>\n",
       "      <td>{Internet,Wifi,Kitchen,\"Buzzer/wireless interc...</td>\n",
       "      <td>90.0</td>\n",
       "      <td>200.0</td>\n",
       "      <td>50.0</td>\n",
       "      <td>62</td>\n",
       "      <td>1</td>\n",
       "      <td>Pankow</td>\n",
       "    </tr>\n",
       "    <tr>\n",
       "      <th>3</th>\n",
       "      <td>Private room</td>\n",
       "      <td>2</td>\n",
       "      <td>1.0</td>\n",
       "      <td>1.0</td>\n",
       "      <td>1.0</td>\n",
       "      <td>Pull-out Sofa</td>\n",
       "      <td>{Internet,Wifi,\"Pets allowed\",\"Pets live on th...</td>\n",
       "      <td>26.0</td>\n",
       "      <td>250.0</td>\n",
       "      <td>30.0</td>\n",
       "      <td>5</td>\n",
       "      <td>0</td>\n",
       "      <td>Tempelhof - Schoneberg</td>\n",
       "    </tr>\n",
       "  </tbody>\n",
       "</table>\n",
       "</div>"
      ],
      "text/plain": [
       "         room_type  accommodates  bathrooms  bedrooms  beds       bed_type  \\\n",
       "0  Entire home/apt             3        1.0       1.0   2.0       Real Bed   \n",
       "1     Private room             2        1.0       1.0   1.0       Real Bed   \n",
       "2  Entire home/apt             4        1.0       1.0   2.0       Real Bed   \n",
       "3     Private room             2        1.0       1.0   1.0  Pull-out Sofa   \n",
       "\n",
       "                                           amenities  price  security_deposit  \\\n",
       "0  {TV,\"Cable TV\",Wifi,Kitchen,Gym,Heating,\"Famil...   60.0             200.0   \n",
       "1  {Wifi,Kitchen,Elevator,Heating,Washer,Essentia...   17.0               0.0   \n",
       "2  {Internet,Wifi,Kitchen,\"Buzzer/wireless interc...   90.0             200.0   \n",
       "3  {Internet,Wifi,\"Pets allowed\",\"Pets live on th...   26.0             250.0   \n",
       "\n",
       "   cleaning_fee  minimum_nights  instant_bookable            neighborhood  \n",
       "0          30.0               4                 0                   Mitte  \n",
       "1           0.0               2                 0                  Pankow  \n",
       "2          50.0              62                 1                  Pankow  \n",
       "3          30.0               5                 0  Tempelhof - Schoneberg  "
      ]
     },
     "execution_count": 5,
     "metadata": {},
     "output_type": "execute_result"
    }
   ],
   "source": [
    "df['instant_bookable'] = df['instant_bookable'].replace({'t': 1, 'f': 0})\n",
    "df['neighborhood'] = df['neighborhood'].str.replace('ö', 'o')\n",
    "df.head(4)"
   ]
  },
  {
   "cell_type": "code",
   "execution_count": 6,
   "metadata": {
    "colab": {
     "base_uri": "https://localhost:8080/",
     "height": 311
    },
    "colab_type": "code",
    "id": "EvQg5oT3h3ih",
    "outputId": "df047e25-21a8-4eb2-80cc-04423d252c91"
   },
   "outputs": [
    {
     "data": {
      "text/html": [
       "<div>\n",
       "<style scoped>\n",
       "    .dataframe tbody tr th:only-of-type {\n",
       "        vertical-align: middle;\n",
       "    }\n",
       "\n",
       "    .dataframe tbody tr th {\n",
       "        vertical-align: top;\n",
       "    }\n",
       "\n",
       "    .dataframe thead th {\n",
       "        text-align: right;\n",
       "    }\n",
       "</style>\n",
       "<table border=\"1\" class=\"dataframe\">\n",
       "  <thead>\n",
       "    <tr style=\"text-align: right;\">\n",
       "      <th></th>\n",
       "      <th>room_type</th>\n",
       "      <th>accommodates</th>\n",
       "      <th>bathrooms</th>\n",
       "      <th>bedrooms</th>\n",
       "      <th>beds</th>\n",
       "      <th>bed_type</th>\n",
       "      <th>price</th>\n",
       "      <th>security_deposit</th>\n",
       "      <th>cleaning_fee</th>\n",
       "      <th>minimum_nights</th>\n",
       "      <th>instant_bookable</th>\n",
       "      <th>neighborhood</th>\n",
       "      <th>wifi</th>\n",
       "    </tr>\n",
       "  </thead>\n",
       "  <tbody>\n",
       "    <tr>\n",
       "      <th>0</th>\n",
       "      <td>Entire home/apt</td>\n",
       "      <td>3</td>\n",
       "      <td>1.0</td>\n",
       "      <td>1.0</td>\n",
       "      <td>2.0</td>\n",
       "      <td>Real Bed</td>\n",
       "      <td>60.0</td>\n",
       "      <td>200.0</td>\n",
       "      <td>30.0</td>\n",
       "      <td>4</td>\n",
       "      <td>0</td>\n",
       "      <td>Mitte</td>\n",
       "      <td>1</td>\n",
       "    </tr>\n",
       "    <tr>\n",
       "      <th>1</th>\n",
       "      <td>Private room</td>\n",
       "      <td>2</td>\n",
       "      <td>1.0</td>\n",
       "      <td>1.0</td>\n",
       "      <td>1.0</td>\n",
       "      <td>Real Bed</td>\n",
       "      <td>17.0</td>\n",
       "      <td>0.0</td>\n",
       "      <td>0.0</td>\n",
       "      <td>2</td>\n",
       "      <td>0</td>\n",
       "      <td>Pankow</td>\n",
       "      <td>1</td>\n",
       "    </tr>\n",
       "    <tr>\n",
       "      <th>2</th>\n",
       "      <td>Entire home/apt</td>\n",
       "      <td>4</td>\n",
       "      <td>1.0</td>\n",
       "      <td>1.0</td>\n",
       "      <td>2.0</td>\n",
       "      <td>Real Bed</td>\n",
       "      <td>90.0</td>\n",
       "      <td>200.0</td>\n",
       "      <td>50.0</td>\n",
       "      <td>62</td>\n",
       "      <td>1</td>\n",
       "      <td>Pankow</td>\n",
       "      <td>1</td>\n",
       "    </tr>\n",
       "    <tr>\n",
       "      <th>3</th>\n",
       "      <td>Private room</td>\n",
       "      <td>2</td>\n",
       "      <td>1.0</td>\n",
       "      <td>1.0</td>\n",
       "      <td>1.0</td>\n",
       "      <td>Pull-out Sofa</td>\n",
       "      <td>26.0</td>\n",
       "      <td>250.0</td>\n",
       "      <td>30.0</td>\n",
       "      <td>5</td>\n",
       "      <td>0</td>\n",
       "      <td>Tempelhof - Schoneberg</td>\n",
       "      <td>1</td>\n",
       "    </tr>\n",
       "    <tr>\n",
       "      <th>4</th>\n",
       "      <td>Private room</td>\n",
       "      <td>2</td>\n",
       "      <td>1.0</td>\n",
       "      <td>1.0</td>\n",
       "      <td>2.0</td>\n",
       "      <td>Real Bed</td>\n",
       "      <td>42.0</td>\n",
       "      <td>0.0</td>\n",
       "      <td>0.0</td>\n",
       "      <td>2</td>\n",
       "      <td>0</td>\n",
       "      <td>Pankow</td>\n",
       "      <td>1</td>\n",
       "    </tr>\n",
       "  </tbody>\n",
       "</table>\n",
       "</div>"
      ],
      "text/plain": [
       "         room_type  accommodates  bathrooms  bedrooms  beds       bed_type  \\\n",
       "0  Entire home/apt             3        1.0       1.0   2.0       Real Bed   \n",
       "1     Private room             2        1.0       1.0   1.0       Real Bed   \n",
       "2  Entire home/apt             4        1.0       1.0   2.0       Real Bed   \n",
       "3     Private room             2        1.0       1.0   1.0  Pull-out Sofa   \n",
       "4     Private room             2        1.0       1.0   2.0       Real Bed   \n",
       "\n",
       "   price  security_deposit  cleaning_fee  minimum_nights  instant_bookable  \\\n",
       "0   60.0             200.0          30.0               4                 0   \n",
       "1   17.0               0.0           0.0               2                 0   \n",
       "2   90.0             200.0          50.0              62                 1   \n",
       "3   26.0             250.0          30.0               5                 0   \n",
       "4   42.0               0.0           0.0               2                 0   \n",
       "\n",
       "             neighborhood  wifi  \n",
       "0                   Mitte     1  \n",
       "1                  Pankow     1  \n",
       "2                  Pankow     1  \n",
       "3  Tempelhof - Schoneberg     1  \n",
       "4                  Pankow     1  "
      ]
     },
     "execution_count": 6,
     "metadata": {},
     "output_type": "execute_result"
    }
   ],
   "source": [
    "df['amenities'] = df['amenities'].str.replace('{',\"[\")\n",
    "df['amenities'] = df['amenities'].str.replace('}',\"]\")\n",
    "df['amenities'] = df['amenities'].str.replace('\"',\"\")\n",
    "df['amenities'] = df['amenities'].apply(lambda x: x.lower())\n",
    "\n",
    "df['wifi'] = df['amenities'].str.contains('wifi').astype(str)\n",
    "df['wifi'] = df['wifi'].replace({'True': 1, 'False': 0})\n",
    "df = df.drop(columns='amenities')\n",
    "\n",
    "\n",
    "df.head()"
   ]
  },
  {
   "cell_type": "code",
   "execution_count": 7,
   "metadata": {
    "colab": {
     "base_uri": "https://localhost:8080/",
     "height": 318
    },
    "colab_type": "code",
    "id": "YSnm3pAoUxnk",
    "outputId": "fc26388c-5bf4-4493-d112-6e496d7e2cba"
   },
   "outputs": [
    {
     "data": {
      "text/html": [
       "<div>\n",
       "<style scoped>\n",
       "    .dataframe tbody tr th:only-of-type {\n",
       "        vertical-align: middle;\n",
       "    }\n",
       "\n",
       "    .dataframe tbody tr th {\n",
       "        vertical-align: top;\n",
       "    }\n",
       "\n",
       "    .dataframe thead th {\n",
       "        text-align: right;\n",
       "    }\n",
       "</style>\n",
       "<table border=\"1\" class=\"dataframe\">\n",
       "  <thead>\n",
       "    <tr style=\"text-align: right;\">\n",
       "      <th></th>\n",
       "      <th>accommodates</th>\n",
       "      <th>bathrooms</th>\n",
       "      <th>bedrooms</th>\n",
       "      <th>beds</th>\n",
       "      <th>price</th>\n",
       "      <th>security_deposit</th>\n",
       "      <th>cleaning_fee</th>\n",
       "      <th>minimum_nights</th>\n",
       "      <th>instant_bookable</th>\n",
       "      <th>wifi</th>\n",
       "    </tr>\n",
       "  </thead>\n",
       "  <tbody>\n",
       "    <tr>\n",
       "      <th>count</th>\n",
       "      <td>22552.000000</td>\n",
       "      <td>22552.000000</td>\n",
       "      <td>22552.000000</td>\n",
       "      <td>22552.000000</td>\n",
       "      <td>22552.000000</td>\n",
       "      <td>22552.000000</td>\n",
       "      <td>22552.000000</td>\n",
       "      <td>22552.000000</td>\n",
       "      <td>22552.000000</td>\n",
       "      <td>22552.000000</td>\n",
       "    </tr>\n",
       "    <tr>\n",
       "      <th>mean</th>\n",
       "      <td>2.637460</td>\n",
       "      <td>1.092695</td>\n",
       "      <td>1.161134</td>\n",
       "      <td>1.620558</td>\n",
       "      <td>67.143668</td>\n",
       "      <td>118.284454</td>\n",
       "      <td>18.253991</td>\n",
       "      <td>7.157059</td>\n",
       "      <td>0.311901</td>\n",
       "      <td>0.954106</td>\n",
       "    </tr>\n",
       "    <tr>\n",
       "      <th>std</th>\n",
       "      <td>1.510548</td>\n",
       "      <td>0.329660</td>\n",
       "      <td>0.645898</td>\n",
       "      <td>1.173798</td>\n",
       "      <td>220.266210</td>\n",
       "      <td>304.232661</td>\n",
       "      <td>28.172816</td>\n",
       "      <td>40.665073</td>\n",
       "      <td>0.463280</td>\n",
       "      <td>0.209260</td>\n",
       "    </tr>\n",
       "    <tr>\n",
       "      <th>min</th>\n",
       "      <td>1.000000</td>\n",
       "      <td>0.000000</td>\n",
       "      <td>0.000000</td>\n",
       "      <td>0.000000</td>\n",
       "      <td>0.000000</td>\n",
       "      <td>0.000000</td>\n",
       "      <td>0.000000</td>\n",
       "      <td>1.000000</td>\n",
       "      <td>0.000000</td>\n",
       "      <td>0.000000</td>\n",
       "    </tr>\n",
       "    <tr>\n",
       "      <th>25%</th>\n",
       "      <td>2.000000</td>\n",
       "      <td>1.000000</td>\n",
       "      <td>1.000000</td>\n",
       "      <td>1.000000</td>\n",
       "      <td>30.000000</td>\n",
       "      <td>0.000000</td>\n",
       "      <td>0.000000</td>\n",
       "      <td>2.000000</td>\n",
       "      <td>0.000000</td>\n",
       "      <td>1.000000</td>\n",
       "    </tr>\n",
       "    <tr>\n",
       "      <th>50%</th>\n",
       "      <td>2.000000</td>\n",
       "      <td>1.000000</td>\n",
       "      <td>1.000000</td>\n",
       "      <td>1.000000</td>\n",
       "      <td>45.000000</td>\n",
       "      <td>0.000000</td>\n",
       "      <td>10.000000</td>\n",
       "      <td>2.000000</td>\n",
       "      <td>0.000000</td>\n",
       "      <td>1.000000</td>\n",
       "    </tr>\n",
       "    <tr>\n",
       "      <th>75%</th>\n",
       "      <td>3.000000</td>\n",
       "      <td>1.000000</td>\n",
       "      <td>1.000000</td>\n",
       "      <td>2.000000</td>\n",
       "      <td>70.000000</td>\n",
       "      <td>150.000000</td>\n",
       "      <td>30.000000</td>\n",
       "      <td>4.000000</td>\n",
       "      <td>1.000000</td>\n",
       "      <td>1.000000</td>\n",
       "    </tr>\n",
       "    <tr>\n",
       "      <th>max</th>\n",
       "      <td>16.000000</td>\n",
       "      <td>8.500000</td>\n",
       "      <td>12.000000</td>\n",
       "      <td>22.000000</td>\n",
       "      <td>9000.000000</td>\n",
       "      <td>4280.000000</td>\n",
       "      <td>2000.000000</td>\n",
       "      <td>5000.000000</td>\n",
       "      <td>1.000000</td>\n",
       "      <td>1.000000</td>\n",
       "    </tr>\n",
       "  </tbody>\n",
       "</table>\n",
       "</div>"
      ],
      "text/plain": [
       "       accommodates     bathrooms      bedrooms          beds         price  \\\n",
       "count  22552.000000  22552.000000  22552.000000  22552.000000  22552.000000   \n",
       "mean       2.637460      1.092695      1.161134      1.620558     67.143668   \n",
       "std        1.510548      0.329660      0.645898      1.173798    220.266210   \n",
       "min        1.000000      0.000000      0.000000      0.000000      0.000000   \n",
       "25%        2.000000      1.000000      1.000000      1.000000     30.000000   \n",
       "50%        2.000000      1.000000      1.000000      1.000000     45.000000   \n",
       "75%        3.000000      1.000000      1.000000      2.000000     70.000000   \n",
       "max       16.000000      8.500000     12.000000     22.000000   9000.000000   \n",
       "\n",
       "       security_deposit  cleaning_fee  minimum_nights  instant_bookable  \\\n",
       "count      22552.000000  22552.000000    22552.000000      22552.000000   \n",
       "mean         118.284454     18.253991        7.157059          0.311901   \n",
       "std          304.232661     28.172816       40.665073          0.463280   \n",
       "min            0.000000      0.000000        1.000000          0.000000   \n",
       "25%            0.000000      0.000000        2.000000          0.000000   \n",
       "50%            0.000000     10.000000        2.000000          0.000000   \n",
       "75%          150.000000     30.000000        4.000000          1.000000   \n",
       "max         4280.000000   2000.000000     5000.000000          1.000000   \n",
       "\n",
       "               wifi  \n",
       "count  22552.000000  \n",
       "mean       0.954106  \n",
       "std        0.209260  \n",
       "min        0.000000  \n",
       "25%        1.000000  \n",
       "50%        1.000000  \n",
       "75%        1.000000  \n",
       "max        1.000000  "
      ]
     },
     "execution_count": 7,
     "metadata": {},
     "output_type": "execute_result"
    }
   ],
   "source": [
    "df.describe()"
   ]
  },
  {
   "cell_type": "code",
   "execution_count": 8,
   "metadata": {},
   "outputs": [
    {
     "data": {
      "text/plain": [
       "1    21517\n",
       "0     1035\n",
       "Name: wifi, dtype: int64"
      ]
     },
     "execution_count": 8,
     "metadata": {},
     "output_type": "execute_result"
    }
   ],
   "source": [
    "df['wifi'].value_counts()"
   ]
  },
  {
   "cell_type": "code",
   "execution_count": 9,
   "metadata": {
    "colab": {},
    "colab_type": "code",
    "id": "VV5GXjPqZixq"
   },
   "outputs": [],
   "source": [
    "# accomodates = [1, 2, 3, 4, 5, 6, 7, 8]\n",
    "# bathrooms = [1.0, 1.5, 2.0]\n",
    "# bedrooms = [0.0, 1.0, 2.0, 3.0]\n",
    "# beds = [1.0, 2.0, 3.0, 4.0]\n",
    "# bed_type = [Real Bed, Pull-out Sofa, Futon, Couch, Airbed]\n",
    "# instant_bookable = [0, 1] <---boolean\n",
    "# minimum_nights = [1, 2, 3, 4, 5, 6, 7]\n",
    "# neighborhood = [Friedrichshain-Kreuzberg, Mitte, Pankow, Neukolln]\n",
    "# room_type = [Private room, Entire home/apt, Shared room]\n",
    "# wifi = [0, 1]  <---boolean"
   ]
  },
  {
   "cell_type": "code",
   "execution_count": 10,
   "metadata": {},
   "outputs": [],
   "source": [
    "### The below filters were originally used"
   ]
  },
  {
   "cell_type": "code",
   "execution_count": 11,
   "metadata": {},
   "outputs": [],
   "source": [
    "df = df[df['price'] <= 300]"
   ]
  },
  {
   "cell_type": "code",
   "execution_count": 12,
   "metadata": {},
   "outputs": [],
   "source": [
    "df = df[df['minimum_nights'] <= 30]"
   ]
  },
  {
   "cell_type": "code",
   "execution_count": 13,
   "metadata": {},
   "outputs": [],
   "source": [
    "df = df[df['accommodates'] <= 8]"
   ]
  },
  {
   "cell_type": "code",
   "execution_count": 14,
   "metadata": {},
   "outputs": [],
   "source": [
    "df = df[df['beds'] <= 4]"
   ]
  },
  {
   "cell_type": "code",
   "execution_count": 15,
   "metadata": {},
   "outputs": [],
   "source": [
    "df = df[df['bedrooms'] <= 3]"
   ]
  },
  {
   "cell_type": "code",
   "execution_count": 16,
   "metadata": {},
   "outputs": [],
   "source": [
    "### The above filters were originally used"
   ]
  },
  {
   "cell_type": "code",
   "execution_count": 17,
   "metadata": {},
   "outputs": [
    {
     "name": "stdout",
     "output_type": "stream",
     "text": [
      "Requirement already satisfied: category_encoders in c:\\users\\sarmen\\appdata\\local\\programs\\python\\python38\\lib\\site-packages (2.1.0)\n",
      "Requirement already satisfied: pandas>=0.21.1 in c:\\users\\sarmen\\appdata\\local\\programs\\python\\python38\\lib\\site-packages (from category_encoders) (1.0.3)\n",
      "Requirement already satisfied: patsy>=0.4.1 in c:\\users\\sarmen\\appdata\\local\\programs\\python\\python38\\lib\\site-packages (from category_encoders) (0.5.1)\n",
      "Requirement already satisfied: statsmodels>=0.6.1 in c:\\users\\sarmen\\appdata\\local\\programs\\python\\python38\\lib\\site-packages (from category_encoders) (0.11.1)\n",
      "Requirement already satisfied: numpy>=1.11.3 in c:\\users\\sarmen\\appdata\\local\\programs\\python\\python38\\lib\\site-packages (from category_encoders) (1.22.3)\n",
      "Requirement already satisfied: scipy>=0.19.0 in c:\\users\\sarmen\\appdata\\local\\programs\\python\\python38\\lib\\site-packages (from category_encoders) (1.4.1)\n",
      "Requirement already satisfied: scikit-learn>=0.20.0 in c:\\users\\sarmen\\appdata\\local\\programs\\python\\python38\\lib\\site-packages (from category_encoders) (1.0.2)\n",
      "Requirement already satisfied: python-dateutil>=2.6.1 in c:\\users\\sarmen\\appdata\\local\\programs\\python\\python38\\lib\\site-packages (from pandas>=0.21.1->category_encoders) (2.8.1)\n",
      "Requirement already satisfied: pytz>=2017.2 in c:\\users\\sarmen\\appdata\\local\\programs\\python\\python38\\lib\\site-packages (from pandas>=0.21.1->category_encoders) (2019.3)\n",
      "Requirement already satisfied: six in c:\\users\\sarmen\\appdata\\local\\programs\\python\\python38\\lib\\site-packages (from patsy>=0.4.1->category_encoders) (1.14.0)\n",
      "Requirement already satisfied: threadpoolctl>=2.0.0 in c:\\users\\sarmen\\appdata\\local\\programs\\python\\python38\\lib\\site-packages (from scikit-learn>=0.20.0->category_encoders) (3.1.0)\n",
      "Requirement already satisfied: joblib>=0.11 in c:\\users\\sarmen\\appdata\\local\\programs\\python\\python38\\lib\\site-packages (from scikit-learn>=0.20.0->category_encoders) (0.14.1)\n",
      "Note: you may need to restart the kernel to use updated packages.\n"
     ]
    },
    {
     "name": "stderr",
     "output_type": "stream",
     "text": [
      "WARNING: You are using pip version 20.2.1; however, version 22.0.4 is available.\n",
      "You should consider upgrading via the 'c:\\users\\sarmen\\appdata\\local\\programs\\python\\python38\\python.exe -m pip install --upgrade pip' command.\n"
     ]
    }
   ],
   "source": [
    "pip install category_encoders"
   ]
  },
  {
   "cell_type": "code",
   "execution_count": 18,
   "metadata": {
    "colab": {},
    "colab_type": "code",
    "id": "RL-Vo7UdwrTx"
   },
   "outputs": [],
   "source": [
    "import category_encoders as ce\n",
    "encoder = ce.OrdinalEncoder(cols = [\n",
    "    'neighborhood',\n",
    "    'room_type',\n",
    "    'bed_type'\n",
    "    ])\n",
    "\n",
    "X = df.drop(['price'], axis=1)\n",
    "y = df['price']\n",
    "\n",
    "X_encoded = encoder.fit_transform(X)"
   ]
  },
  {
   "cell_type": "code",
   "execution_count": 19,
   "metadata": {
    "scrolled": true
   },
   "outputs": [
    {
     "data": {
      "text/html": [
       "<div>\n",
       "<style scoped>\n",
       "    .dataframe tbody tr th:only-of-type {\n",
       "        vertical-align: middle;\n",
       "    }\n",
       "\n",
       "    .dataframe tbody tr th {\n",
       "        vertical-align: top;\n",
       "    }\n",
       "\n",
       "    .dataframe thead th {\n",
       "        text-align: right;\n",
       "    }\n",
       "</style>\n",
       "<table border=\"1\" class=\"dataframe\">\n",
       "  <thead>\n",
       "    <tr style=\"text-align: right;\">\n",
       "      <th></th>\n",
       "      <th>room_type</th>\n",
       "      <th>accommodates</th>\n",
       "      <th>bathrooms</th>\n",
       "      <th>bedrooms</th>\n",
       "      <th>beds</th>\n",
       "      <th>bed_type</th>\n",
       "      <th>security_deposit</th>\n",
       "      <th>cleaning_fee</th>\n",
       "      <th>minimum_nights</th>\n",
       "      <th>instant_bookable</th>\n",
       "      <th>neighborhood</th>\n",
       "      <th>wifi</th>\n",
       "    </tr>\n",
       "  </thead>\n",
       "  <tbody>\n",
       "    <tr>\n",
       "      <th>0</th>\n",
       "      <td>1</td>\n",
       "      <td>3</td>\n",
       "      <td>1.0</td>\n",
       "      <td>1.0</td>\n",
       "      <td>2.0</td>\n",
       "      <td>1</td>\n",
       "      <td>200.0</td>\n",
       "      <td>30.0</td>\n",
       "      <td>4</td>\n",
       "      <td>0</td>\n",
       "      <td>1</td>\n",
       "      <td>1</td>\n",
       "    </tr>\n",
       "    <tr>\n",
       "      <th>1</th>\n",
       "      <td>2</td>\n",
       "      <td>2</td>\n",
       "      <td>1.0</td>\n",
       "      <td>1.0</td>\n",
       "      <td>1.0</td>\n",
       "      <td>1</td>\n",
       "      <td>0.0</td>\n",
       "      <td>0.0</td>\n",
       "      <td>2</td>\n",
       "      <td>0</td>\n",
       "      <td>2</td>\n",
       "      <td>1</td>\n",
       "    </tr>\n",
       "    <tr>\n",
       "      <th>3</th>\n",
       "      <td>2</td>\n",
       "      <td>2</td>\n",
       "      <td>1.0</td>\n",
       "      <td>1.0</td>\n",
       "      <td>1.0</td>\n",
       "      <td>2</td>\n",
       "      <td>250.0</td>\n",
       "      <td>30.0</td>\n",
       "      <td>5</td>\n",
       "      <td>0</td>\n",
       "      <td>3</td>\n",
       "      <td>1</td>\n",
       "    </tr>\n",
       "    <tr>\n",
       "      <th>4</th>\n",
       "      <td>2</td>\n",
       "      <td>2</td>\n",
       "      <td>1.0</td>\n",
       "      <td>1.0</td>\n",
       "      <td>2.0</td>\n",
       "      <td>1</td>\n",
       "      <td>0.0</td>\n",
       "      <td>0.0</td>\n",
       "      <td>2</td>\n",
       "      <td>0</td>\n",
       "      <td>2</td>\n",
       "      <td>1</td>\n",
       "    </tr>\n",
       "    <tr>\n",
       "      <th>7</th>\n",
       "      <td>2</td>\n",
       "      <td>2</td>\n",
       "      <td>1.0</td>\n",
       "      <td>1.0</td>\n",
       "      <td>2.0</td>\n",
       "      <td>1</td>\n",
       "      <td>0.0</td>\n",
       "      <td>0.0</td>\n",
       "      <td>30</td>\n",
       "      <td>0</td>\n",
       "      <td>4</td>\n",
       "      <td>1</td>\n",
       "    </tr>\n",
       "    <tr>\n",
       "      <th>...</th>\n",
       "      <td>...</td>\n",
       "      <td>...</td>\n",
       "      <td>...</td>\n",
       "      <td>...</td>\n",
       "      <td>...</td>\n",
       "      <td>...</td>\n",
       "      <td>...</td>\n",
       "      <td>...</td>\n",
       "      <td>...</td>\n",
       "      <td>...</td>\n",
       "      <td>...</td>\n",
       "      <td>...</td>\n",
       "    </tr>\n",
       "    <tr>\n",
       "      <th>22547</th>\n",
       "      <td>1</td>\n",
       "      <td>2</td>\n",
       "      <td>1.0</td>\n",
       "      <td>1.0</td>\n",
       "      <td>1.0</td>\n",
       "      <td>1</td>\n",
       "      <td>0.0</td>\n",
       "      <td>0.0</td>\n",
       "      <td>2</td>\n",
       "      <td>0</td>\n",
       "      <td>1</td>\n",
       "      <td>1</td>\n",
       "    </tr>\n",
       "    <tr>\n",
       "      <th>22548</th>\n",
       "      <td>3</td>\n",
       "      <td>6</td>\n",
       "      <td>1.0</td>\n",
       "      <td>1.0</td>\n",
       "      <td>4.0</td>\n",
       "      <td>1</td>\n",
       "      <td>0.0</td>\n",
       "      <td>0.0</td>\n",
       "      <td>1</td>\n",
       "      <td>1</td>\n",
       "      <td>3</td>\n",
       "      <td>1</td>\n",
       "    </tr>\n",
       "    <tr>\n",
       "      <th>22549</th>\n",
       "      <td>1</td>\n",
       "      <td>2</td>\n",
       "      <td>1.0</td>\n",
       "      <td>0.0</td>\n",
       "      <td>1.0</td>\n",
       "      <td>1</td>\n",
       "      <td>0.0</td>\n",
       "      <td>0.0</td>\n",
       "      <td>3</td>\n",
       "      <td>0</td>\n",
       "      <td>2</td>\n",
       "      <td>1</td>\n",
       "    </tr>\n",
       "    <tr>\n",
       "      <th>22550</th>\n",
       "      <td>2</td>\n",
       "      <td>2</td>\n",
       "      <td>1.0</td>\n",
       "      <td>1.0</td>\n",
       "      <td>1.0</td>\n",
       "      <td>1</td>\n",
       "      <td>0.0</td>\n",
       "      <td>0.0</td>\n",
       "      <td>1</td>\n",
       "      <td>0</td>\n",
       "      <td>1</td>\n",
       "      <td>1</td>\n",
       "    </tr>\n",
       "    <tr>\n",
       "      <th>22551</th>\n",
       "      <td>2</td>\n",
       "      <td>2</td>\n",
       "      <td>1.0</td>\n",
       "      <td>1.0</td>\n",
       "      <td>1.0</td>\n",
       "      <td>1</td>\n",
       "      <td>0.0</td>\n",
       "      <td>0.0</td>\n",
       "      <td>5</td>\n",
       "      <td>0</td>\n",
       "      <td>5</td>\n",
       "      <td>1</td>\n",
       "    </tr>\n",
       "  </tbody>\n",
       "</table>\n",
       "<p>20890 rows × 12 columns</p>\n",
       "</div>"
      ],
      "text/plain": [
       "       room_type  accommodates  bathrooms  bedrooms  beds  bed_type  \\\n",
       "0              1             3        1.0       1.0   2.0         1   \n",
       "1              2             2        1.0       1.0   1.0         1   \n",
       "3              2             2        1.0       1.0   1.0         2   \n",
       "4              2             2        1.0       1.0   2.0         1   \n",
       "7              2             2        1.0       1.0   2.0         1   \n",
       "...          ...           ...        ...       ...   ...       ...   \n",
       "22547          1             2        1.0       1.0   1.0         1   \n",
       "22548          3             6        1.0       1.0   4.0         1   \n",
       "22549          1             2        1.0       0.0   1.0         1   \n",
       "22550          2             2        1.0       1.0   1.0         1   \n",
       "22551          2             2        1.0       1.0   1.0         1   \n",
       "\n",
       "       security_deposit  cleaning_fee  minimum_nights  instant_bookable  \\\n",
       "0                 200.0          30.0               4                 0   \n",
       "1                   0.0           0.0               2                 0   \n",
       "3                 250.0          30.0               5                 0   \n",
       "4                   0.0           0.0               2                 0   \n",
       "7                   0.0           0.0              30                 0   \n",
       "...                 ...           ...             ...               ...   \n",
       "22547               0.0           0.0               2                 0   \n",
       "22548               0.0           0.0               1                 1   \n",
       "22549               0.0           0.0               3                 0   \n",
       "22550               0.0           0.0               1                 0   \n",
       "22551               0.0           0.0               5                 0   \n",
       "\n",
       "       neighborhood  wifi  \n",
       "0                 1     1  \n",
       "1                 2     1  \n",
       "3                 3     1  \n",
       "4                 2     1  \n",
       "7                 4     1  \n",
       "...             ...   ...  \n",
       "22547             1     1  \n",
       "22548             3     1  \n",
       "22549             2     1  \n",
       "22550             1     1  \n",
       "22551             5     1  \n",
       "\n",
       "[20890 rows x 12 columns]"
      ]
     },
     "execution_count": 19,
     "metadata": {},
     "output_type": "execute_result"
    }
   ],
   "source": [
    "X_encoded"
   ]
  },
  {
   "cell_type": "code",
   "execution_count": 20,
   "metadata": {
    "colab": {
     "base_uri": "https://localhost:8080/",
     "height": 34
    },
    "colab_type": "code",
    "id": "6smS_XoNzKkO",
    "outputId": "d31a6ae5-58ba-4ae4-a758-bd3afded8b2e"
   },
   "outputs": [
    {
     "data": {
      "text/plain": [
       "((15667, 12), (5223, 12), (15667,), (5223,))"
      ]
     },
     "execution_count": 20,
     "metadata": {},
     "output_type": "execute_result"
    }
   ],
   "source": [
    "from sklearn.model_selection import train_test_split\n",
    "\n",
    "X_train, X_test, y_train, y_test = train_test_split(X_encoded, y, test_size=0.25)\n",
    "\n",
    "X_train.shape, X_test.shape, y_train.shape, y_test.shape"
   ]
  },
  {
   "cell_type": "code",
   "execution_count": 21,
   "metadata": {
    "scrolled": true
   },
   "outputs": [
    {
     "data": {
      "text/html": [
       "<div>\n",
       "<style scoped>\n",
       "    .dataframe tbody tr th:only-of-type {\n",
       "        vertical-align: middle;\n",
       "    }\n",
       "\n",
       "    .dataframe tbody tr th {\n",
       "        vertical-align: top;\n",
       "    }\n",
       "\n",
       "    .dataframe thead th {\n",
       "        text-align: right;\n",
       "    }\n",
       "</style>\n",
       "<table border=\"1\" class=\"dataframe\">\n",
       "  <thead>\n",
       "    <tr style=\"text-align: right;\">\n",
       "      <th></th>\n",
       "      <th>room_type</th>\n",
       "      <th>accommodates</th>\n",
       "      <th>bathrooms</th>\n",
       "      <th>bedrooms</th>\n",
       "      <th>beds</th>\n",
       "      <th>bed_type</th>\n",
       "      <th>security_deposit</th>\n",
       "      <th>cleaning_fee</th>\n",
       "      <th>minimum_nights</th>\n",
       "      <th>instant_bookable</th>\n",
       "      <th>neighborhood</th>\n",
       "      <th>wifi</th>\n",
       "    </tr>\n",
       "  </thead>\n",
       "  <tbody>\n",
       "    <tr>\n",
       "      <th>22182</th>\n",
       "      <td>1</td>\n",
       "      <td>4</td>\n",
       "      <td>1.0</td>\n",
       "      <td>2.0</td>\n",
       "      <td>2.0</td>\n",
       "      <td>1</td>\n",
       "      <td>0.0</td>\n",
       "      <td>0.0</td>\n",
       "      <td>1</td>\n",
       "      <td>0</td>\n",
       "      <td>4</td>\n",
       "      <td>1</td>\n",
       "    </tr>\n",
       "    <tr>\n",
       "      <th>15573</th>\n",
       "      <td>2</td>\n",
       "      <td>3</td>\n",
       "      <td>1.0</td>\n",
       "      <td>1.0</td>\n",
       "      <td>2.0</td>\n",
       "      <td>1</td>\n",
       "      <td>0.0</td>\n",
       "      <td>0.0</td>\n",
       "      <td>2</td>\n",
       "      <td>1</td>\n",
       "      <td>5</td>\n",
       "      <td>1</td>\n",
       "    </tr>\n",
       "    <tr>\n",
       "      <th>7774</th>\n",
       "      <td>1</td>\n",
       "      <td>4</td>\n",
       "      <td>1.0</td>\n",
       "      <td>2.0</td>\n",
       "      <td>4.0</td>\n",
       "      <td>1</td>\n",
       "      <td>0.0</td>\n",
       "      <td>0.0</td>\n",
       "      <td>1</td>\n",
       "      <td>0</td>\n",
       "      <td>1</td>\n",
       "      <td>1</td>\n",
       "    </tr>\n",
       "    <tr>\n",
       "      <th>1683</th>\n",
       "      <td>2</td>\n",
       "      <td>2</td>\n",
       "      <td>1.0</td>\n",
       "      <td>1.0</td>\n",
       "      <td>1.0</td>\n",
       "      <td>1</td>\n",
       "      <td>0.0</td>\n",
       "      <td>14.0</td>\n",
       "      <td>5</td>\n",
       "      <td>1</td>\n",
       "      <td>3</td>\n",
       "      <td>1</td>\n",
       "    </tr>\n",
       "    <tr>\n",
       "      <th>21197</th>\n",
       "      <td>2</td>\n",
       "      <td>2</td>\n",
       "      <td>1.0</td>\n",
       "      <td>1.0</td>\n",
       "      <td>1.0</td>\n",
       "      <td>1</td>\n",
       "      <td>0.0</td>\n",
       "      <td>0.0</td>\n",
       "      <td>1</td>\n",
       "      <td>1</td>\n",
       "      <td>5</td>\n",
       "      <td>1</td>\n",
       "    </tr>\n",
       "  </tbody>\n",
       "</table>\n",
       "</div>"
      ],
      "text/plain": [
       "       room_type  accommodates  bathrooms  bedrooms  beds  bed_type  \\\n",
       "22182          1             4        1.0       2.0   2.0         1   \n",
       "15573          2             3        1.0       1.0   2.0         1   \n",
       "7774           1             4        1.0       2.0   4.0         1   \n",
       "1683           2             2        1.0       1.0   1.0         1   \n",
       "21197          2             2        1.0       1.0   1.0         1   \n",
       "\n",
       "       security_deposit  cleaning_fee  minimum_nights  instant_bookable  \\\n",
       "22182               0.0           0.0               1                 0   \n",
       "15573               0.0           0.0               2                 1   \n",
       "7774                0.0           0.0               1                 0   \n",
       "1683                0.0          14.0               5                 1   \n",
       "21197               0.0           0.0               1                 1   \n",
       "\n",
       "       neighborhood  wifi  \n",
       "22182             4     1  \n",
       "15573             5     1  \n",
       "7774              1     1  \n",
       "1683              3     1  \n",
       "21197             5     1  "
      ]
     },
     "execution_count": 21,
     "metadata": {},
     "output_type": "execute_result"
    }
   ],
   "source": [
    "X_test.head()"
   ]
  },
  {
   "cell_type": "code",
   "execution_count": 23,
   "metadata": {
    "colab": {
     "base_uri": "https://localhost:8080/",
     "height": 88
    },
    "colab_type": "code",
    "id": "78-tGeaM1FNa",
    "outputId": "03f3e5d9-f59f-4648-8dd4-435dc145e992",
    "scrolled": false
   },
   "outputs": [
    {
     "data": {
      "text/plain": [
       "21.464484013019337"
      ]
     },
     "execution_count": 23,
     "metadata": {},
     "output_type": "execute_result"
    }
   ],
   "source": [
    "from sklearn.metrics import mean_absolute_error\n",
    "from sklearn.ensemble import RandomForestClassifier\n",
    "\n",
    "# untuned random forest classifier result = 21.564043653072947 MAE\n",
    "\n",
    "# tuned, unfiltered random forest classifier result = 28.326179496275277 MAE\n",
    "\n",
    "rfc = RandomForestClassifier(random_state=42)\n",
    "\n",
    "\n",
    "rfc.fit(X_train, y_train)\n",
    "preds = rfc.predict(X_test)\n",
    "mean_absolute_error(preds, y_test)"
   ]
  },
  {
   "cell_type": "code",
   "execution_count": 24,
   "metadata": {
    "scrolled": false
   },
   "outputs": [
    {
     "data": {
      "text/plain": [
       "array([0.01939683, 0.06079145, 0.04373099, 0.04344373, 0.05408324,\n",
       "       0.02173802, 0.12986034, 0.1732162 , 0.19501298, 0.05145492,\n",
       "       0.18820697, 0.01906433])"
      ]
     },
     "execution_count": 24,
     "metadata": {},
     "output_type": "execute_result"
    }
   ],
   "source": [
    "rfc.feature_importances_"
   ]
  },
  {
   "cell_type": "code",
   "execution_count": 24,
   "metadata": {},
   "outputs": [],
   "source": [
    "from sklearn.model_selection import GridSearchCV"
   ]
  },
  {
   "cell_type": "code",
   "execution_count": 25,
   "metadata": {},
   "outputs": [],
   "source": [
    "# parameters to cycle through for GridSearchCV\n",
    "\n",
    "params = {\n",
    "#     'n_estimators': [200, 500],\n",
    "    'n_estimators': [200, 400],\n",
    "#     'max_features': ['auto', 'sqrt'],\n",
    "    'max_features': ['auto'],\n",
    "    'max_depth' : [4,5,6,7,8,15,20,25],\n",
    "    'criterion' :['gini', 'entropy']\n",
    "}"
   ]
  },
  {
   "cell_type": "code",
   "execution_count": 26,
   "metadata": {},
   "outputs": [],
   "source": [
    "grid_rfc = GridSearchCV(estimator = rfc,\n",
    "                        param_grid = params,\n",
    "                        scoring = 'accuracy', \n",
    "                        cv = 5, \n",
    "                        verbose = 1)"
   ]
  },
  {
   "cell_type": "code",
   "execution_count": 28,
   "metadata": {
    "scrolled": false
   },
   "outputs": [
    {
     "name": "stdout",
     "output_type": "stream",
     "text": [
      "Fitting 5 folds for each of 32 candidates, totalling 160 fits\n"
     ]
    },
    {
     "name": "stderr",
     "output_type": "stream",
     "text": [
      "c:\\users\\sarmen\\appdata\\local\\programs\\python\\python38\\lib\\site-packages\\sklearn\\model_selection\\_split.py:676: UserWarning: The least populated class in y has only 1 members, which is less than n_splits=5.\n",
      "  warnings.warn(\n"
     ]
    },
    {
     "name": "stdout",
     "output_type": "stream",
     "text": [
      "Wall time: 22min 14s\n"
     ]
    },
    {
     "data": {
      "text/plain": [
       "GridSearchCV(cv=5, estimator=RandomForestClassifier(random_state=42),\n",
       "             param_grid={'criterion': ['gini', 'entropy'],\n",
       "                         'max_depth': [4, 5, 6, 7, 8, 15, 20, 25],\n",
       "                         'max_features': ['auto'], 'n_estimators': [200, 400]},\n",
       "             scoring='accuracy', verbose=1)"
      ]
     },
     "execution_count": 28,
     "metadata": {},
     "output_type": "execute_result"
    }
   ],
   "source": [
    "%%time\n",
    "\n",
    "# loop through predefined hyperparameters and fit your\n",
    "# estimator (model) on your training set. So, in the end,\n",
    "# you can select the best parameters from the listed\n",
    "# hyperparameters. **18.5 minutes on last run**\n",
    "\n",
    "grid_rfc.fit(X_train, y_train)"
   ]
  },
  {
   "cell_type": "code",
   "execution_count": 39,
   "metadata": {
    "scrolled": true
   },
   "outputs": [
    {
     "name": "stdout",
     "output_type": "stream",
     "text": [
      "RandomForestClassifier(max_depth=8, n_estimators=200, random_state=42)\n"
     ]
    }
   ],
   "source": [
    "# # result = RandomForestClassifier(max_depth=8, n_estimators=400, random_state=42)\n",
    "\n",
    "print(grid_rfc.best_estimator_)"
   ]
  },
  {
   "cell_type": "code",
   "execution_count": 40,
   "metadata": {
    "scrolled": true
   },
   "outputs": [
    {
     "name": "stdout",
     "output_type": "stream",
     "text": [
      "0.09666548421426037\n"
     ]
    }
   ],
   "source": [
    "# # result = 0.09668772735975494\n",
    "\n",
    "print(grid_rfc.score(X_test, y_test))"
   ]
  },
  {
   "cell_type": "code",
   "execution_count": 27,
   "metadata": {},
   "outputs": [],
   "source": [
    "rfc = RandomForestClassifier(criterion='entropy', max_depth=8, n_estimators=400,\n",
    "                       random_state=42)"
   ]
  },
  {
   "cell_type": "code",
   "execution_count": 30,
   "metadata": {},
   "outputs": [
    {
     "name": "stdout",
     "output_type": "stream",
     "text": [
      "€17.630480566724106\n",
      "Wall time: 9.36 s\n"
     ]
    }
   ],
   "source": [
    "%%time\n",
    "\n",
    "# with 200 n_estimators = 17.666475205820408 MAE\n",
    "\n",
    "# with 400 n_estimators = 17.630480566724106 MAE\n",
    "\n",
    "# unfiltered, with 200 n_estimators = 22.33079106065981 MAE\n",
    "\n",
    "# unfiltered, with 400 n_estimators = 22.263568641362184 MAE\n",
    "\n",
    "rfc.fit(X_train, y_train)\n",
    "preds = rfc.predict(X_test)\n",
    "print(f'€{mean_absolute_error(preds, y_test)}')"
   ]
  },
  {
   "cell_type": "code",
   "execution_count": 31,
   "metadata": {},
   "outputs": [
    {
     "data": {
      "text/plain": [
       "array([0.15418239, 0.14347492, 0.04268815, 0.06866164, 0.07954043,\n",
       "       0.0034301 , 0.08189311, 0.16799552, 0.10480559, 0.04739989,\n",
       "       0.10058697, 0.00534129])"
      ]
     },
     "execution_count": 31,
     "metadata": {},
     "output_type": "execute_result"
    }
   ],
   "source": [
    "# with 200 n_estimators\n",
    "\n",
    "# array([0.16266006, 0.13879341, 0.03295924, 0.06012943, 0.06496402,\n",
    "#        0.00377635, 0.08642557, 0.17540102, 0.10664776, 0.04840562,\n",
    "#        0.11394447, 0.00589304]) \n",
    "\n",
    "# with 400 n_estimators\n",
    "\n",
    "# array([0.16518969, 0.13275899, 0.03213856, 0.05621115, 0.06739702,\n",
    "#        0.00351863, 0.08727281, 0.18005061, 0.10840799, 0.04905788,\n",
    "#        0.11138423, 0.00661244])\n",
    "\n",
    "rfc.feature_importances_"
   ]
  },
  {
   "cell_type": "code",
   "execution_count": null,
   "metadata": {
    "scrolled": true
   },
   "outputs": [],
   "source": [
    "pip install yellowbrick --user"
   ]
  },
  {
   "cell_type": "code",
   "execution_count": 32,
   "metadata": {},
   "outputs": [],
   "source": [
    "from yellowbrick.datasets import load_occupancy\n",
    "from yellowbrick.model_selection import FeatureImportances"
   ]
  },
  {
   "cell_type": "code",
   "execution_count": 33,
   "metadata": {},
   "outputs": [],
   "source": [
    "viz = FeatureImportances(rfc)"
   ]
  },
  {
   "cell_type": "code",
   "execution_count": 34,
   "metadata": {
    "scrolled": true
   },
   "outputs": [
    {
     "name": "stderr",
     "output_type": "stream",
     "text": [
      "c:\\users\\sarmen\\appdata\\local\\programs\\python\\python38\\lib\\site-packages\\sklearn\\base.py:450: UserWarning: X does not have valid feature names, but RandomForestClassifier was fitted with feature names\n",
      "  warnings.warn(\n"
     ]
    },
    {
     "data": {
      "image/png": "[encoded data removed]",
      "text/plain": [
       "<Figure size 576x396 with 1 Axes>"
      ]
     },
     "metadata": {},
     "output_type": "display_data"
    },
    {
     "data": {
      "text/plain": [
       "<matplotlib.axes._subplots.AxesSubplot at 0x1e4fd0c0910>"
      ]
     },
     "execution_count": 34,
     "metadata": {},
     "output_type": "execute_result"
    }
   ],
   "source": [
    "viz.fit(X_train, y_train)\n",
    "viz.show()"
   ]
  },
  {
   "cell_type": "code",
   "execution_count": null,
   "metadata": {
    "colab": {},
    "colab_type": "code",
    "id": "3EGY-WPm1QFp"
   },
   "outputs": [],
   "source": [
    "%%time\n",
    "import pickle\n",
    "\n",
    "filename = 'model.pkl'\n",
    "f = open(filename, 'wb')\n",
    "pickle.dump(rfc, f)"
   ]
  },
  {
   "cell_type": "code",
   "execution_count": null,
   "metadata": {},
   "outputs": [],
   "source": [
    "%%time\n",
    "f.close()"
   ]
  },
  {
   "cell_type": "code",
   "execution_count": null,
   "metadata": {},
   "outputs": [],
   "source": [
    "# %%time\n",
    "\n",
    "# ###SINGLE CELL SCRIPT###\n",
    "\n",
    "# ###SINGLE CELL SCRIPT###\n",
    "\n",
    "# ###SINGLE CELL SCRIPT###\n",
    "\n",
    "# ###SINGLE CELL SCRIPT###\n",
    "\n",
    "# import pandas as pd\n",
    "# import category_encoders as ce\n",
    "# from sklearn.model_selection import train_test_split\n",
    "# from sklearn.metrics import mean_absolute_error\n",
    "# from sklearn.ensemble import RandomForestClassifier\n",
    "# from sklearn.model_selection import GridSearchCV\n",
    "# from yellowbrick.datasets import load_occupancy\n",
    "# from yellowbrick.model_selection import FeatureImportances\n",
    "# import pickle\n",
    "\n",
    "\n",
    "# df = pd.read_csv(r'E:\\Desktop\\Lambda_School\\Group Projects\\Unit 4 Sprint 4 Build Week AirBnB\\listings_summary.csv')\n",
    "\n",
    "# columns = [\n",
    "#     'neighbourhood_group_cleansed',\n",
    "#     'room_type',\n",
    "#     'accommodates',\n",
    "#     'bathrooms',\n",
    "#     'bedrooms',\n",
    "#     'beds',\n",
    "#     'bed_type',\n",
    "#     'amenities',\n",
    "#     'price',\n",
    "#     'security_deposit',\n",
    "#     'cleaning_fee',\n",
    "#     'minimum_nights',\n",
    "#     'instant_bookable'         \n",
    "# ]\n",
    "\n",
    "# df = df[columns]\n",
    "\n",
    "# df['bathrooms'] = df['bathrooms'].fillna(df['bathrooms'].mean()).astype(float)\n",
    "# df['bedrooms'] = df['bedrooms'].fillna(df['bedrooms'].mean()).astype(float)\n",
    "# df['beds'] = df['beds'].fillna(df['beds'].mean()).astype(float)\n",
    "# df['security_deposit'] = df['security_deposit'].fillna('$0.00')\n",
    "# df['cleaning_fee'] = df['cleaning_fee'].fillna('$0.00')\n",
    "\n",
    "# df['price'] = df['price'].str.replace('$', '').str.replace(',', '').astype(float)\n",
    "# df['security_deposit'] = df['security_deposit'].str.replace('$', '').str.replace(',', '').astype(float)\n",
    "# df['cleaning_fee'] = df['cleaning_fee'].str.replace('$', '').str.replace(',', '').astype(float)\n",
    "\n",
    "# df['neighborhood'] = df['neighbourhood_group_cleansed']\n",
    "# df = df.drop(columns=['neighbourhood_group_cleansed'])\n",
    "\n",
    "# df['instant_bookable'] = df['instant_bookable'].replace({'t': 1, 'f': 0})\n",
    "# df['neighborhood'] = df['neighborhood'].str.replace('ö', 'o')\n",
    "\n",
    "# df['amenities'] = df['amenities'].str.replace('{',\"[\")\n",
    "# df['amenities'] = df['amenities'].str.replace('}',\"]\")\n",
    "# df['amenities'] = df['amenities'].str.replace('\"',\"\")\n",
    "# df['amenities'] = df['amenities'].apply(lambda x: x.lower())\n",
    "\n",
    "# df['wifi'] = df['amenities'].str.contains('wifi').astype(str)\n",
    "# df['wifi'] = df['wifi'].replace({'True': 1, 'False': 0})\n",
    "# df = df.drop(columns='amenities')\n",
    "\n",
    "# encoder = ce.OrdinalEncoder(cols = [\n",
    "#     'neighborhood',\n",
    "#     'room_type',\n",
    "#     'bed_type'\n",
    "#     ])\n",
    "\n",
    "# X = df.drop(['price'], axis=1)\n",
    "# y = df['price']\n",
    "\n",
    "# X_encoded = encoder.fit_transform(X)\n",
    "\n",
    "# X_train, X_test, y_train, y_test = train_test_split(X_encoded, y, test_size=0.25)\n",
    "\n",
    "# X_train.shape, X_test.shape, y_train.shape, y_test.shape\n",
    "\n",
    "# rfc = RandomForestClassifier(random_state=42)\n",
    "\n",
    "\n",
    "# rfc.fit(X_train, y_train)\n",
    "# preds = rfc.predict(X_test)\n",
    "# mean_absolute_error(preds, y_test)\n",
    "\n",
    "# params = {\n",
    "# #     'n_estimators': [200, 500],\n",
    "#     'n_estimators': [200, 400],\n",
    "# #     'max_features': ['auto', 'sqrt'],\n",
    "#     'max_features': ['auto'],\n",
    "#     'max_depth' : [4,5,6,7,8,15,20,25],\n",
    "#     'criterion' :['gini', 'entropy']\n",
    "# }\n",
    "\n",
    "# grid_rfc = GridSearchCV(estimator = rfc,\n",
    "#                         param_grid = params,\n",
    "#                         scoring = 'accuracy', \n",
    "#                         cv = 5, \n",
    "#                         verbose = 1)\n",
    "\n",
    "# grid_rfc.fit(X_train, y_train)\n",
    "\n",
    "# rfc = RandomForestClassifier(criterion='entropy', max_depth=8, n_estimators=400,\n",
    "#                        random_state=42)\n",
    "\n",
    "# rfc.fit(X_train, y_train)\n",
    "\n",
    "\n",
    "# filename = 'model.pkl'\n",
    "# f = open(filename, 'wb')\n",
    "# pickle.dump(rfc, f)\n",
    "\n",
    "# f.close()\n",
    "\n",
    "# ###SINGLE CELL SCRIPT###\n",
    "\n",
    "# ###SINGLE CELL SCRIPT###\n",
    "\n",
    "# ###SINGLE CELL SCRIPT###\n",
    "\n",
    "# ###SINGLE CELL SCRIPT###"
   ]
  },
  {
   "cell_type": "code",
   "execution_count": null,
   "metadata": {},
   "outputs": [],
   "source": []
  }
 ],
 "metadata": {
  "colab": {
   "name": "AirBnB.ipynb",
   "provenance": []
  },
  "kernelspec": {
   "display_name": "Python 3",
   "language": "python",
   "name": "python3"
  },
  "language_info": {
   "codemirror_mode": {
    "name": "ipython",
    "version": 3
   },
   "file_extension": ".py",
   "mimetype": "text/x-python",
   "name": "python",
   "nbconvert_exporter": "python",
   "pygments_lexer": "ipython3",
   "version": "3.8.1"
  }
 },
 "nbformat": 4,
 "nbformat_minor": 4
}
