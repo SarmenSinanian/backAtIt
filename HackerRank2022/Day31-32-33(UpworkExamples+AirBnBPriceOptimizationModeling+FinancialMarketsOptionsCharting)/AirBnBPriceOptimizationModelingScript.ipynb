{
 "cells": [
  {
   "cell_type": "code",
   "execution_count": 1,
   "metadata": {},
   "outputs": [
    {
     "name": "stdout",
     "output_type": "stream",
     "text": [
      "Requirement already satisfied: category_encoders in c:\\users\\sarmen\\appdata\\local\\programs\\python\\python38\\lib\\site-packages (2.1.0)\n",
      "Requirement already satisfied: patsy>=0.4.1 in c:\\users\\sarmen\\appdata\\local\\programs\\python\\python38\\lib\\site-packages (from category_encoders) (0.5.1)\n",
      "Requirement already satisfied: scikit-learn>=0.20.0 in c:\\users\\sarmen\\appdata\\local\\programs\\python\\python38\\lib\\site-packages (from category_encoders) (1.0.2)\n",
      "Requirement already satisfied: statsmodels>=0.6.1 in c:\\users\\sarmen\\appdata\\local\\programs\\python\\python38\\lib\\site-packages (from category_encoders) (0.11.1)\n",
      "Requirement already satisfied: pandas>=0.21.1 in c:\\users\\sarmen\\appdata\\local\\programs\\python\\python38\\lib\\site-packages (from category_encoders) (1.0.3)\n",
      "Requirement already satisfied: scipy>=0.19.0 in c:\\users\\sarmen\\appdata\\local\\programs\\python\\python38\\lib\\site-packages (from category_encoders) (1.4.1)\n",
      "Requirement already satisfied: numpy>=1.11.3 in c:\\users\\sarmen\\appdata\\local\\programs\\python\\python38\\lib\\site-packages (from category_encoders) (1.22.3)\n",
      "Requirement already satisfied: six in c:\\users\\sarmen\\appdata\\local\\programs\\python\\python38\\lib\\site-packages (from patsy>=0.4.1->category_encoders) (1.14.0)\n",
      "Requirement already satisfied: joblib>=0.11 in c:\\users\\sarmen\\appdata\\local\\programs\\python\\python38\\lib\\site-packages (from scikit-learn>=0.20.0->category_encoders) (0.14.1)\n",
      "Requirement already satisfied: threadpoolctl>=2.0.0 in c:\\users\\sarmen\\appdata\\local\\programs\\python\\python38\\lib\\site-packages (from scikit-learn>=0.20.0->category_encoders) (3.1.0)\n",
      "Requirement already satisfied: pytz>=2017.2 in c:\\users\\sarmen\\appdata\\local\\programs\\python\\python38\\lib\\site-packages (from pandas>=0.21.1->category_encoders) (2019.3)\n",
      "Requirement already satisfied: python-dateutil>=2.6.1 in c:\\users\\sarmen\\appdata\\local\\programs\\python\\python38\\lib\\site-packages (from pandas>=0.21.1->category_encoders) (2.8.1)\n",
      "Note: you may need to restart the kernel to use updated packages.\n"
     ]
    },
    {
     "name": "stderr",
     "output_type": "stream",
     "text": [
      "WARNING: You are using pip version 20.2.1; however, version 22.0.4 is available.\n",
      "You should consider upgrading via the 'c:\\users\\sarmen\\appdata\\local\\programs\\python\\python38\\python.exe -m pip install --upgrade pip' command.\n"
     ]
    }
   ],
   "source": [
    "pip install category_encoders"
   ]
  },
  {
   "cell_type": "code",
   "execution_count": 2,
   "metadata": {},
   "outputs": [
    {
     "name": "stdout",
     "output_type": "stream",
     "text": [
      "Requirement already satisfied: yellowbrick in c:\\users\\sarmen\\appdata\\roaming\\python\\python38\\site-packages (1.4)\n",
      "Requirement already satisfied: numpy>=1.16.0 in c:\\users\\sarmen\\appdata\\local\\programs\\python\\python38\\lib\\site-packages (from yellowbrick) (1.22.3)\n",
      "Requirement already satisfied: scipy>=1.0.0 in c:\\users\\sarmen\\appdata\\local\\programs\\python\\python38\\lib\\site-packages (from yellowbrick) (1.4.1)\n",
      "Requirement already satisfied: scikit-learn>=1.0.0 in c:\\users\\sarmen\\appdata\\local\\programs\\python\\python38\\lib\\site-packages (from yellowbrick) (1.0.2)\n",
      "Requirement already satisfied: cycler>=0.10.0 in c:\\users\\sarmen\\appdata\\local\\programs\\python\\python38\\lib\\site-packages (from yellowbrick) (0.10.0)\n",
      "Requirement already satisfied: matplotlib!=3.0.0,>=2.0.2 in c:\\users\\sarmen\\appdata\\local\\programs\\python\\python38\\lib\\site-packages (from yellowbrick) (3.2.1)\n",
      "Requirement already satisfied: joblib>=0.11 in c:\\users\\sarmen\\appdata\\local\\programs\\python\\python38\\lib\\site-packages (from scikit-learn>=1.0.0->yellowbrick) (0.14.1)\n",
      "Requirement already satisfied: threadpoolctl>=2.0.0 in c:\\users\\sarmen\\appdata\\local\\programs\\python\\python38\\lib\\site-packages (from scikit-learn>=1.0.0->yellowbrick) (3.1.0)\n",
      "Requirement already satisfied: six in c:\\users\\sarmen\\appdata\\local\\programs\\python\\python38\\lib\\site-packages (from cycler>=0.10.0->yellowbrick) (1.14.0)\n",
      "Requirement already satisfied: python-dateutil>=2.1 in c:\\users\\sarmen\\appdata\\local\\programs\\python\\python38\\lib\\site-packages (from matplotlib!=3.0.0,>=2.0.2->yellowbrick) (2.8.1)\n",
      "Requirement already satisfied: kiwisolver>=1.0.1 in c:\\users\\sarmen\\appdata\\local\\programs\\python\\python38\\lib\\site-packages (from matplotlib!=3.0.0,>=2.0.2->yellowbrick) (1.1.0)\n",
      "Requirement already satisfied: pyparsing!=2.0.4,!=2.1.2,!=2.1.6,>=2.0.1 in c:\\users\\sarmen\\appdata\\local\\programs\\python\\python38\\lib\\site-packages (from matplotlib!=3.0.0,>=2.0.2->yellowbrick) (2.4.6)\n",
      "Requirement already satisfied: setuptools in c:\\users\\sarmen\\appdata\\local\\programs\\python\\python38\\lib\\site-packages (from kiwisolver>=1.0.1->matplotlib!=3.0.0,>=2.0.2->yellowbrick) (45.1.0)\n",
      "Note: you may need to restart the kernel to use updated packages.\n"
     ]
    },
    {
     "name": "stderr",
     "output_type": "stream",
     "text": [
      "WARNING: You are using pip version 20.2.1; however, version 22.0.4 is available.\n",
      "You should consider upgrading via the 'c:\\users\\sarmen\\appdata\\local\\programs\\python\\python38\\python.exe -m pip install --upgrade pip' command.\n"
     ]
    }
   ],
   "source": [
    "pip install yellowbrick --user"
   ]
  },
  {
   "cell_type": "code",
   "execution_count": 3,
   "metadata": {},
   "outputs": [
    {
     "name": "stdout",
     "output_type": "stream",
     "text": [
      "Fitting 5 folds for each of 32 candidates, totalling 160 fits\n"
     ]
    },
    {
     "name": "stderr",
     "output_type": "stream",
     "text": [
      "c:\\users\\sarmen\\appdata\\local\\programs\\python\\python38\\lib\\site-packages\\sklearn\\model_selection\\_split.py:676: UserWarning: The least populated class in y has only 1 members, which is less than n_splits=5.\n",
      "  warnings.warn(\n"
     ]
    },
    {
     "name": "stdout",
     "output_type": "stream",
     "text": [
      "Wall time: 26min 17s\n"
     ]
    }
   ],
   "source": [
    "%%time\n",
    "\n",
    "###SINGLE CELL SCRIPT###\n",
    "\n",
    "import pandas as pd\n",
    "import category_encoders as ce\n",
    "from sklearn.model_selection import train_test_split\n",
    "from sklearn.metrics import mean_absolute_error\n",
    "from sklearn.ensemble import RandomForestClassifier\n",
    "from sklearn.model_selection import GridSearchCV\n",
    "from yellowbrick.datasets import load_occupancy\n",
    "from yellowbrick.model_selection import FeatureImportances\n",
    "import pickle\n",
    "\n",
    "\n",
    "df = pd.read_csv(r'E:\\Desktop\\Lambda_School\\Group Projects\\Unit 4 Sprint 4 Build Week AirBnB\\listings_summary.csv')\n",
    "\n",
    "columns = [\n",
    "    'neighbourhood_group_cleansed',\n",
    "    'room_type',\n",
    "    'accommodates',\n",
    "    'bathrooms',\n",
    "    'bedrooms',\n",
    "    'beds',\n",
    "    'bed_type',\n",
    "    'amenities',\n",
    "    'price',\n",
    "    'security_deposit',\n",
    "    'cleaning_fee',\n",
    "    'minimum_nights',\n",
    "    'instant_bookable'         \n",
    "]\n",
    "\n",
    "df = df[columns]\n",
    "\n",
    "df['bathrooms'] = df['bathrooms'].fillna(df['bathrooms'].mean()).astype(float)\n",
    "df['bedrooms'] = df['bedrooms'].fillna(df['bedrooms'].mean()).astype(float)\n",
    "df['beds'] = df['beds'].fillna(df['beds'].mean()).astype(float)\n",
    "df['security_deposit'] = df['security_deposit'].fillna('$0.00')\n",
    "df['cleaning_fee'] = df['cleaning_fee'].fillna('$0.00')\n",
    "\n",
    "df['price'] = df['price'].str.replace('$', '').str.replace(',', '').astype(float)\n",
    "df['security_deposit'] = df['security_deposit'].str.replace('$', '').str.replace(',', '').astype(float)\n",
    "df['cleaning_fee'] = df['cleaning_fee'].str.replace('$', '').str.replace(',', '').astype(float)\n",
    "\n",
    "df['neighborhood'] = df['neighbourhood_group_cleansed']\n",
    "df = df.drop(columns=['neighbourhood_group_cleansed'])\n",
    "\n",
    "df['instant_bookable'] = df['instant_bookable'].replace({'t': 1, 'f': 0})\n",
    "df['neighborhood'] = df['neighborhood'].str.replace('ö', 'o')\n",
    "\n",
    "df['amenities'] = df['amenities'].str.replace('{',\"[\")\n",
    "df['amenities'] = df['amenities'].str.replace('}',\"]\")\n",
    "df['amenities'] = df['amenities'].str.replace('\"',\"\")\n",
    "df['amenities'] = df['amenities'].apply(lambda x: x.lower())\n",
    "\n",
    "df['wifi'] = df['amenities'].str.contains('wifi').astype(str)\n",
    "df['wifi'] = df['wifi'].replace({'True': 1, 'False': 0})\n",
    "df = df.drop(columns='amenities')\n",
    "\n",
    "encoder = ce.OrdinalEncoder(cols = [\n",
    "    'neighborhood',\n",
    "    'room_type',\n",
    "    'bed_type'\n",
    "    ])\n",
    "\n",
    "X = df.drop(['price'], axis=1)\n",
    "y = df['price']\n",
    "\n",
    "X_encoded = encoder.fit_transform(X)\n",
    "\n",
    "X_train, X_test, y_train, y_test = train_test_split(X_encoded, y, test_size=0.25)\n",
    "\n",
    "X_train.shape, X_test.shape, y_train.shape, y_test.shape\n",
    "\n",
    "rfc = RandomForestClassifier(random_state=42)\n",
    "\n",
    "\n",
    "rfc.fit(X_train, y_train)\n",
    "preds = rfc.predict(X_test)\n",
    "mean_absolute_error(preds, y_test)\n",
    "\n",
    "params = {\n",
    "#     'n_estimators': [200, 500],\n",
    "    'n_estimators': [200, 400],\n",
    "#     'max_features': ['auto', 'sqrt'],\n",
    "    'max_features': ['auto'],\n",
    "    'max_depth' : [4,5,6,7,8,15,20,25],\n",
    "    'criterion' :['gini', 'entropy']\n",
    "}\n",
    "\n",
    "grid_rfc = GridSearchCV(estimator = rfc,\n",
    "                        param_grid = params,\n",
    "                        scoring = 'accuracy', \n",
    "                        cv = 5, \n",
    "                        verbose = 1)\n",
    "\n",
    "grid_rfc.fit(X_train, y_train)\n",
    "\n",
    "rfc = RandomForestClassifier(criterion='entropy', max_depth=8, n_estimators=400,\n",
    "                       random_state=42)\n",
    "\n",
    "rfc.fit(X_train, y_train)\n",
    "\n",
    "\n",
    "filename = 'model.pkl'\n",
    "f = open(filename, 'wb')\n",
    "pickle.dump(rfc, f)\n",
    "\n",
    "f.close()"
   ]
  },
  {
   "cell_type": "code",
   "execution_count": null,
   "metadata": {},
   "outputs": [],
   "source": []
  }
 ],
 "metadata": {
  "kernelspec": {
   "display_name": "Python 3",
   "language": "python",
   "name": "python3"
  },
  "language_info": {
   "codemirror_mode": {
    "name": "ipython",
    "version": 3
   },
   "file_extension": ".py",
   "mimetype": "text/x-python",
   "name": "python",
   "nbconvert_exporter": "python",
   "pygments_lexer": "ipython3",
   "version": "3.8.1"
  }
 },
 "nbformat": 4,
 "nbformat_minor": 4
}
