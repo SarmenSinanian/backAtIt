{
 "cells": [
  {
   "cell_type": "code",
   "execution_count": 1,
   "metadata": {},
   "outputs": [],
   "source": [
    "import random\n",
    "import string"
   ]
  },
  {
   "cell_type": "code",
   "execution_count": 2,
   "metadata": {},
   "outputs": [],
   "source": [
    "import requests\n",
    "\n",
    "word_site = \"https://www.mit.edu/~ecprice/wordlist.10000\"\n",
    "\n",
    "response = requests.get(word_site)\n",
    "WORDS = response.content.splitlines()"
   ]
  },
  {
   "cell_type": "code",
   "execution_count": 3,
   "metadata": {},
   "outputs": [],
   "source": [
    "wordsCleaned = []\n",
    "encoding = 'utf-8'\n",
    "\n",
    "for i in WORDS:\n",
    "    wordsCleaned.append(str(i, encoding))"
   ]
  },
  {
   "cell_type": "code",
   "execution_count": 4,
   "metadata": {},
   "outputs": [],
   "source": [
    "hashtaggedSpacedWords = []"
   ]
  },
  {
   "cell_type": "code",
   "execution_count": 5,
   "metadata": {},
   "outputs": [],
   "source": [
    "for i in wordsCleaned:\n",
    "    x = i+('# ')\n",
    "    hashtaggedSpacedWords.append(x)"
   ]
  },
  {
   "cell_type": "code",
   "execution_count": 6,
   "metadata": {},
   "outputs": [],
   "source": [
    "def randomWords(length):\n",
    "    result_str = [random.choice(hashtaggedSpacedWords) for x in range(length)]\n",
    "    return result_str"
   ]
  },
  {
   "cell_type": "code",
   "execution_count": 7,
   "metadata": {},
   "outputs": [
    {
     "data": {
      "text/plain": [
       "'add length modifier based on spacing and number of hashtags'"
      ]
     },
     "execution_count": 7,
     "metadata": {},
     "output_type": "execute_result"
    }
   ],
   "source": [
    "'''add length modifier based on spacing and number of hashtags'''"
   ]
  },
  {
   "cell_type": "code",
   "execution_count": 8,
   "metadata": {},
   "outputs": [],
   "source": [
    "def instagramHashtagHider(numberOfRandomWords, yourHashtags):\n",
    "    placeholder = 0\n",
    "    r = randomWords(numberOfRandomWords)\n",
    "    a = int(len(r)/5)\n",
    "    for i in yourHashtags:\n",
    "        r[a + placeholder] = i\n",
    "        placeholder += 3\n",
    "#         print(list1)\n",
    "    string1 = ''\n",
    "    for i in r:\n",
    "        string1+=i\n",
    "    return string1"
   ]
  },
  {
   "cell_type": "code",
   "execution_count": 9,
   "metadata": {},
   "outputs": [],
   "source": [
    "# myHashtags = ['#facebookmemes ', #facebookmeme #facebookmemesaretherapy #badlyeditedfacebookmemes #facebookmemetemplate #fbmemes #pinterestinspired #pinterestmemes #reactionpics #wholesomememes #memes #mommy #cursedimages #cursed #cursedmemes #explore #explorepage #cursedimage #cod #codmemes #callofduty #callofdutymemes #eminem #mgk #machinegunkelly #meganfox #priest #religion #exorcism]"
   ]
  },
  {
   "cell_type": "code",
   "execution_count": 10,
   "metadata": {},
   "outputs": [
    {
     "data": {
      "text/plain": [
       "['#facebookmemes ',\n",
       " '#facebookmeme ',\n",
       " '#facebookmemesaretherapy ',\n",
       " '#badlyeditedfacebookmemes ',\n",
       " '#facebookmemetemplate ',\n",
       " '#fbmemes ',\n",
       " '#pinterestinspired ',\n",
       " '#pinterestmemes ',\n",
       " '#reactionpics ',\n",
       " '#wholesomememes ',\n",
       " '#memes ',\n",
       " '#mommy ',\n",
       " '#cursedimages ',\n",
       " '#cursed ',\n",
       " '#cursedmemes ',\n",
       " '#explore ',\n",
       " '#explorepage ',\n",
       " '#cursedimage ',\n",
       " '#cod ',\n",
       " '#codmemes ',\n",
       " '#callofduty ',\n",
       " '#callofdutymemes ']"
      ]
     },
     "execution_count": 10,
     "metadata": {},
     "output_type": "execute_result"
    }
   ],
   "source": [
    "hashtagStr = '#facebookmemes #facebookmeme #facebookmemesaretherapy #badlyeditedfacebookmemes #facebookmemetemplate #fbmemes #pinterestinspired #pinterestmemes #reactionpics #wholesomememes #memes #mommy #cursedimages #cursed #cursedmemes #explore #explorepage #cursedimage #cod #codmemes #callofduty #callofdutymemes '\n",
    "x = hashtagStr.split()\n",
    "editedList = []\n",
    "for i in x:\n",
    "    edited = i+' '\n",
    "    editedList.append(edited)\n",
    "    \n",
    "editedList"
   ]
  },
  {
   "cell_type": "code",
   "execution_count": 11,
   "metadata": {},
   "outputs": [],
   "source": [
    "myHashtags = editedList"
   ]
  },
  {
   "cell_type": "code",
   "execution_count": 12,
   "metadata": {},
   "outputs": [
    {
     "data": {
      "text/plain": [
       "'entertaining# branches# pan# poland# contacting# signals# focal# requires# cv# pipes# jewel# calculators# cooling# zum# fiction# planned# pgp# blue# fragrances# used# opinion# pas# #facebookmemes department# covering# #facebookmeme infectious# base# #facebookmemesaretherapy advance# prime# #badlyeditedfacebookmemes smtp# salary# #facebookmemetemplate merge# queen# #fbmemes terry# younger# #pinterestinspired alliance# regulated# #pinterestmemes cite# purposes# #reactionpics community# viagra# #wholesomememes kodak# yugoslavia# #memes modified# panties# #mommy nations# what# #cursedimages podcast# makers# #cursed yea# slots# #cursedmemes desirable# fine# #explore oakland# giving# #explorepage plant# playlist# #cursedimage coverage# arc# #cod fingers# today# #codmemes hints# te# #callofduty arc# richardson# #callofdutymemes counted# deeply# records# reputation# taylor# except# sheep# derek# controversy# retreat# characterization# supporting# paste# ap# boring# deck# border# prescribed# broader# companies# candle# treasurer# mar# wisconsin# '"
      ]
     },
     "execution_count": 12,
     "metadata": {},
     "output_type": "execute_result"
    }
   ],
   "source": [
    "instagramHashtagHider(110, myHashtags)"
   ]
  },
  {
   "cell_type": "code",
   "execution_count": null,
   "metadata": {},
   "outputs": [],
   "source": []
  }
 ],
 "metadata": {
  "kernelspec": {
   "display_name": "Python 3",
   "language": "python",
   "name": "python3"
  },
  "language_info": {
   "codemirror_mode": {
    "name": "ipython",
    "version": 3
   },
   "file_extension": ".py",
   "mimetype": "text/x-python",
   "name": "python",
   "nbconvert_exporter": "python",
   "pygments_lexer": "ipython3",
   "version": "3.8.1"
  }
 },
 "nbformat": 4,
 "nbformat_minor": 4
}
