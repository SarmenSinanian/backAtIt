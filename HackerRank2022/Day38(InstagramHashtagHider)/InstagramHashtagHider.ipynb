{
 "cells": [
  {
   "cell_type": "code",
   "execution_count": 1,
   "metadata": {},
   "outputs": [],
   "source": [
    "import random\n",
    "import string"
   ]
  },
  {
   "cell_type": "code",
   "execution_count": 2,
   "metadata": {},
   "outputs": [],
   "source": [
    "import requests\n",
    "\n",
    "word_site = \"https://www.mit.edu/~ecprice/wordlist.10000\"\n",
    "\n",
    "response = requests.get(word_site)\n",
    "WORDS = response.content.splitlines()"
   ]
  },
  {
   "cell_type": "code",
   "execution_count": 3,
   "metadata": {},
   "outputs": [],
   "source": [
    "wordsCleaned = []\n",
    "encoding = 'utf-8'\n",
    "\n",
    "for i in WORDS:\n",
    "    wordsCleaned.append(str(i, encoding))"
   ]
  },
  {
   "cell_type": "code",
   "execution_count": 4,
   "metadata": {},
   "outputs": [],
   "source": [
    "hashtaggedSpacedWords = []"
   ]
  },
  {
   "cell_type": "code",
   "execution_count": 5,
   "metadata": {},
   "outputs": [],
   "source": [
    "for i in wordsCleaned:\n",
    "    x = i+('# ')\n",
    "    hashtaggedSpacedWords.append(x)"
   ]
  },
  {
   "cell_type": "code",
   "execution_count": 6,
   "metadata": {},
   "outputs": [],
   "source": [
    "def randomWords(length):\n",
    "    result_str = [random.choice(hashtaggedSpacedWords) for x in range(length)]\n",
    "    return result_str"
   ]
  },
  {
   "cell_type": "code",
   "execution_count": 7,
   "metadata": {},
   "outputs": [],
   "source": [
    "def instagramHashtagHider(numberOfRandomWords, yourHashtags):\n",
    "    placeholder = 0\n",
    "    r = randomWords(numberOfRandomWords)\n",
    "    a = int(len(r)/2)\n",
    "    for i in yourHashtags:\n",
    "        r[a + placeholder] = i\n",
    "        placeholder += 5\n",
    "#         print(list1)\n",
    "    string1 = ''\n",
    "    for i in r:\n",
    "        string1+=i\n",
    "    return string1"
   ]
  },
  {
   "cell_type": "code",
   "execution_count": 8,
   "metadata": {},
   "outputs": [],
   "source": [
    "myHashtags = ['#dogs ','#cats ','#horses ']"
   ]
  },
  {
   "cell_type": "code",
   "execution_count": 9,
   "metadata": {},
   "outputs": [
    {
     "data": {
      "text/plain": [
       "'protect# sculpture# quotes# shake# retailer# savage# bizarre# off# creative# anaheim# proposition# environment# designers# visit# gardening# holmes# analyst# automated# retro# external# creates# ladder# forms# anniversary# houston# #dogs acer# stone# columns# stamps# #cats seven# treating# silly# mating# #horses fr# terry# moderator# chris# document# requested# prescription# transcripts# channels# keyword# rolls# noble# sex# everyone# '"
      ]
     },
     "execution_count": 9,
     "metadata": {},
     "output_type": "execute_result"
    }
   ],
   "source": [
    "instagramHashtagHider(50, myHashtags)"
   ]
  }
 ],
 "metadata": {
  "kernelspec": {
   "display_name": "Python 3",
   "language": "python",
   "name": "python3"
  },
  "language_info": {
   "codemirror_mode": {
    "name": "ipython",
    "version": 3
   },
   "file_extension": ".py",
   "mimetype": "text/x-python",
   "name": "python",
   "nbconvert_exporter": "python",
   "pygments_lexer": "ipython3",
   "version": "3.8.1"
  }
 },
 "nbformat": 4,
 "nbformat_minor": 4
}
