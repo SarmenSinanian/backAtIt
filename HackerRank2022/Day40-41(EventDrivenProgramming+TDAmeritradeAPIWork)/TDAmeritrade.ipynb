{
 "cells": [
  {
   "cell_type": "code",
   "execution_count": 1,
   "metadata": {},
   "outputs": [],
   "source": [
    "import requests\n",
    "from Config import ConsumerKey as key"
   ]
  },
  {
   "cell_type": "code",
   "execution_count": 3,
   "metadata": {},
   "outputs": [],
   "source": [
    "# define our endpoint\n",
    "endpoint = r'https://api.tdameritrade.com/v1/marketdata/{}/pricehistory'.format('QQQ')"
   ]
  },
  {
   "cell_type": "code",
   "execution_count": 4,
   "metadata": {},
   "outputs": [],
   "source": [
    "# definte our payload\n",
    "payload = {'apikey':key,\n",
    "          'periodType':'month',\n",
    "          'period':'1',\n",
    "          'frequencyType':'daily',\n",
    "          'frequency':'1',\n",
    "          'startDate':'1651285293',\n",
    "          'needExtendedHoursData':'true'}"
   ]
  },
  {
   "cell_type": "code",
   "execution_count": 5,
   "metadata": {},
   "outputs": [],
   "source": [
    "# make a request\n",
    "content = requests.get(url = endpoint, params = payload)"
   ]
  },
  {
   "cell_type": "code",
   "execution_count": 6,
   "metadata": {},
   "outputs": [],
   "source": [
    "# convert it to a dictionary\n",
    "data = content.json()"
   ]
  },
  {
   "cell_type": "code",
   "execution_count": 7,
   "metadata": {},
   "outputs": [],
   "source": [
    "import pandas as pd"
   ]
  },
  {
   "cell_type": "code",
   "execution_count": 8,
   "metadata": {},
   "outputs": [],
   "source": [
    "df2 = pd.json_normalize(data['candles']) "
   ]
  },
  {
   "cell_type": "code",
   "execution_count": 9,
   "metadata": {},
   "outputs": [],
   "source": [
    "import matplotlib.pyplot as plt"
   ]
  },
  {
   "cell_type": "code",
   "execution_count": 10,
   "metadata": {},
   "outputs": [],
   "source": [
    "x = df2['datetime']\n",
    "y = df2['close']"
   ]
  },
  {
   "cell_type": "code",
   "execution_count": 11,
   "metadata": {},
   "outputs": [
    {
     "data": {
      "text/plain": [
       "[<matplotlib.lines.Line2D at 0x1e05ff89250>]"
      ]
     },
     "execution_count": 11,
     "metadata": {},
     "output_type": "execute_result"
    },
    {
     "data": {
      "image/png": "[encoded data removed]",
      "text/plain": [
       "<Figure size 432x288 with 1 Axes>"
      ]
     },
     "metadata": {
      "needs_background": "light"
     },
     "output_type": "display_data"
    }
   ],
   "source": [
    "plt.plot(x,y)"
   ]
  },
  {
   "cell_type": "code",
   "execution_count": 12,
   "metadata": {},
   "outputs": [],
   "source": [
    "import datetime"
   ]
  },
  {
   "cell_type": "code",
   "execution_count": 13,
   "metadata": {},
   "outputs": [],
   "source": [
    "df = df2.copy()"
   ]
  },
  {
   "cell_type": "code",
   "execution_count": 14,
   "metadata": {},
   "outputs": [],
   "source": [
    "df['datetime'] = df['datetime'].floordiv(1000)"
   ]
  },
  {
   "cell_type": "code",
   "execution_count": 15,
   "metadata": {},
   "outputs": [],
   "source": [
    "def datetimeconvert(x):\n",
    "    return datetime.datetime.fromtimestamp(x)"
   ]
  },
  {
   "cell_type": "code",
   "execution_count": 16,
   "metadata": {},
   "outputs": [],
   "source": [
    "df['datetime'] = df['datetime'].apply(datetimeconvert)"
   ]
  },
  {
   "cell_type": "code",
   "execution_count": 17,
   "metadata": {},
   "outputs": [],
   "source": [
    "x = df['datetime']\n",
    "y = df['close']"
   ]
  },
  {
   "cell_type": "code",
   "execution_count": 18,
   "metadata": {},
   "outputs": [
    {
     "data": {
      "text/plain": [
       "[<matplotlib.lines.Line2D at 0x1e060029b50>]"
      ]
     },
     "execution_count": 18,
     "metadata": {},
     "output_type": "execute_result"
    },
    {
     "data": {
      "image/png": "[encoded data removed]",
      "text/plain": [
       "<Figure size 432x288 with 1 Axes>"
      ]
     },
     "metadata": {
      "needs_background": "light"
     },
     "output_type": "display_data"
    }
   ],
   "source": [
    "plt.plot(x,y)"
   ]
  },
  {
   "cell_type": "code",
   "execution_count": 19,
   "metadata": {},
   "outputs": [],
   "source": [
    "# endpoint2 = r'https://api.tdameritrade.com/v1/marketdata/{}/pricehistory'.format('QQQ')\n",
    "# endpoint2 = r'https://api.tdameritrade.com/v1/marketdata/{}/chains'.format('QQQ')\n",
    "endpoint2 = r'https://api.tdameritrade.com/v1/marketdata/chains'"
   ]
  },
  {
   "cell_type": "code",
   "execution_count": 20,
   "metadata": {},
   "outputs": [],
   "source": [
    "payload2 = {'apikey':key,\n",
    "           'symbol':'QQQ',\n",
    "           'strikeCount':'30',\n",
    "           'fromDate':'2022-04-01'}"
   ]
  },
  {
   "cell_type": "code",
   "execution_count": 21,
   "metadata": {},
   "outputs": [],
   "source": [
    "content2 = requests.get(url = endpoint2, params = payload2)"
   ]
  },
  {
   "cell_type": "code",
   "execution_count": 22,
   "metadata": {},
   "outputs": [],
   "source": [
    "data2 = content2.json()"
   ]
  },
  {
   "cell_type": "code",
   "execution_count": 23,
   "metadata": {},
   "outputs": [],
   "source": [
    "optionsChain = pd.json_normalize(data2) "
   ]
  },
  {
   "cell_type": "code",
   "execution_count": 24,
   "metadata": {},
   "outputs": [],
   "source": [
    "# optionsChain"
   ]
  },
  {
   "cell_type": "code",
   "execution_count": 25,
   "metadata": {},
   "outputs": [],
   "source": [
    "# for i in optionsChain.columns:\n",
    "#     print(i)"
   ]
  },
  {
   "cell_type": "code",
   "execution_count": 26,
   "metadata": {},
   "outputs": [],
   "source": [
    "# optionsChain['callExpDateMap.2022-05-02:0.304.0']"
   ]
  },
  {
   "cell_type": "code",
   "execution_count": 27,
   "metadata": {},
   "outputs": [],
   "source": [
    "# counter=0\n",
    "# for i in range(12,1812):\n",
    "#     counter+=1\n",
    "#     print(i)\n",
    "# print(counter)"
   ]
  },
  {
   "cell_type": "code",
   "execution_count": 28,
   "metadata": {
    "scrolled": true
   },
   "outputs": [],
   "source": [
    "# len(optionsChain.transpose())-12"
   ]
  },
  {
   "cell_type": "code",
   "execution_count": 29,
   "metadata": {},
   "outputs": [],
   "source": [
    "categories = ['putCall','symbol', 'volatility','delta','gamma',\n",
    "              'theta','vega','rho','openInterest','strikePrice']"
   ]
  },
  {
   "cell_type": "code",
   "execution_count": 30,
   "metadata": {},
   "outputs": [],
   "source": [
    "# optionsChain.iat[0,12][0].get('putCall')"
   ]
  },
  {
   "cell_type": "code",
   "execution_count": 31,
   "metadata": {
    "scrolled": true
   },
   "outputs": [],
   "source": [
    "# for i in range(len(optionsChain.transpose())-12):\n",
    "#     print(optionsChain.iat[0, i+12][0])"
   ]
  },
  {
   "cell_type": "code",
   "execution_count": 32,
   "metadata": {},
   "outputs": [],
   "source": [
    "selected = pd.DataFrame(columns = categories, dtype = object)"
   ]
  },
  {
   "cell_type": "code",
   "execution_count": 33,
   "metadata": {},
   "outputs": [],
   "source": [
    "# selected"
   ]
  },
  {
   "cell_type": "code",
   "execution_count": 34,
   "metadata": {},
   "outputs": [],
   "source": [
    "for i in range(len(optionsChain.transpose())-12):\n",
    "    for j in categories:\n",
    "        # iterate and put values into 'selected' dataframe\n",
    "        selected.at[i, j] = optionsChain.iat[0, i+12][0].get(j)"
   ]
  },
  {
   "cell_type": "code",
   "execution_count": 35,
   "metadata": {},
   "outputs": [
    {
     "data": {
      "text/html": [
       "<div>\n",
       "<style scoped>\n",
       "    .dataframe tbody tr th:only-of-type {\n",
       "        vertical-align: middle;\n",
       "    }\n",
       "\n",
       "    .dataframe tbody tr th {\n",
       "        vertical-align: top;\n",
       "    }\n",
       "\n",
       "    .dataframe thead th {\n",
       "        text-align: right;\n",
       "    }\n",
       "</style>\n",
       "<table border=\"1\" class=\"dataframe\">\n",
       "  <thead>\n",
       "    <tr style=\"text-align: right;\">\n",
       "      <th></th>\n",
       "      <th>putCall</th>\n",
       "      <th>symbol</th>\n",
       "      <th>volatility</th>\n",
       "      <th>delta</th>\n",
       "      <th>gamma</th>\n",
       "      <th>theta</th>\n",
       "      <th>vega</th>\n",
       "      <th>rho</th>\n",
       "      <th>openInterest</th>\n",
       "      <th>strikePrice</th>\n",
       "    </tr>\n",
       "  </thead>\n",
       "  <tbody>\n",
       "    <tr>\n",
       "      <th>0</th>\n",
       "      <td>CALL</td>\n",
       "      <td>QQQ_050422C304</td>\n",
       "      <td>42.111</td>\n",
       "      <td>0.954</td>\n",
       "      <td>0.011</td>\n",
       "      <td>-0.269</td>\n",
       "      <td>0.021</td>\n",
       "      <td>0.013</td>\n",
       "      <td>32</td>\n",
       "      <td>304</td>\n",
       "    </tr>\n",
       "    <tr>\n",
       "      <th>1</th>\n",
       "      <td>CALL</td>\n",
       "      <td>QQQ_050422C305</td>\n",
       "      <td>41.703</td>\n",
       "      <td>0.943</td>\n",
       "      <td>0.013</td>\n",
       "      <td>-0.312</td>\n",
       "      <td>0.025</td>\n",
       "      <td>0.013</td>\n",
       "      <td>119</td>\n",
       "      <td>305</td>\n",
       "    </tr>\n",
       "    <tr>\n",
       "      <th>2</th>\n",
       "      <td>CALL</td>\n",
       "      <td>QQQ_050422C306</td>\n",
       "      <td>41.796</td>\n",
       "      <td>0.929</td>\n",
       "      <td>0.015</td>\n",
       "      <td>-0.374</td>\n",
       "      <td>0.029</td>\n",
       "      <td>0.013</td>\n",
       "      <td>58</td>\n",
       "      <td>306</td>\n",
       "    </tr>\n",
       "    <tr>\n",
       "      <th>3</th>\n",
       "      <td>CALL</td>\n",
       "      <td>QQQ_050422C307</td>\n",
       "      <td>41.531</td>\n",
       "      <td>0.913</td>\n",
       "      <td>0.018</td>\n",
       "      <td>-0.431</td>\n",
       "      <td>0.034</td>\n",
       "      <td>0.013</td>\n",
       "      <td>177</td>\n",
       "      <td>307</td>\n",
       "    </tr>\n",
       "    <tr>\n",
       "      <th>4</th>\n",
       "      <td>CALL</td>\n",
       "      <td>QQQ_050422C308</td>\n",
       "      <td>41.359</td>\n",
       "      <td>0.894</td>\n",
       "      <td>0.021</td>\n",
       "      <td>-0.494</td>\n",
       "      <td>0.04</td>\n",
       "      <td>0.013</td>\n",
       "      <td>101</td>\n",
       "      <td>308</td>\n",
       "    </tr>\n",
       "    <tr>\n",
       "      <th>...</th>\n",
       "      <td>...</td>\n",
       "      <td>...</td>\n",
       "      <td>...</td>\n",
       "      <td>...</td>\n",
       "      <td>...</td>\n",
       "      <td>...</td>\n",
       "      <td>...</td>\n",
       "      <td>...</td>\n",
       "      <td>...</td>\n",
       "      <td>...</td>\n",
       "    </tr>\n",
       "    <tr>\n",
       "      <th>1735</th>\n",
       "      <td>PUT</td>\n",
       "      <td>QQQ_011924P370</td>\n",
       "      <td>23.922</td>\n",
       "      <td>-0.623</td>\n",
       "      <td>0.004</td>\n",
       "      <td>-0.023</td>\n",
       "      <td>1.631</td>\n",
       "      <td>-3.004</td>\n",
       "      <td>327</td>\n",
       "      <td>370</td>\n",
       "    </tr>\n",
       "    <tr>\n",
       "      <th>1736</th>\n",
       "      <td>PUT</td>\n",
       "      <td>QQQ_011924P375</td>\n",
       "      <td>23.73</td>\n",
       "      <td>-0.644</td>\n",
       "      <td>0.004</td>\n",
       "      <td>-0.022</td>\n",
       "      <td>1.6</td>\n",
       "      <td>-3.008</td>\n",
       "      <td>321</td>\n",
       "      <td>375</td>\n",
       "    </tr>\n",
       "    <tr>\n",
       "      <th>1737</th>\n",
       "      <td>PUT</td>\n",
       "      <td>QQQ_011924P380</td>\n",
       "      <td>23.547</td>\n",
       "      <td>-0.665</td>\n",
       "      <td>0.004</td>\n",
       "      <td>-0.021</td>\n",
       "      <td>1.565</td>\n",
       "      <td>-3</td>\n",
       "      <td>1769</td>\n",
       "      <td>380</td>\n",
       "    </tr>\n",
       "    <tr>\n",
       "      <th>1738</th>\n",
       "      <td>PUT</td>\n",
       "      <td>QQQ_011924P385</td>\n",
       "      <td>23.377</td>\n",
       "      <td>-0.686</td>\n",
       "      <td>0.004</td>\n",
       "      <td>-0.02</td>\n",
       "      <td>1.524</td>\n",
       "      <td>-2.979</td>\n",
       "      <td>1931</td>\n",
       "      <td>385</td>\n",
       "    </tr>\n",
       "    <tr>\n",
       "      <th>1739</th>\n",
       "      <td>PUT</td>\n",
       "      <td>QQQ_011924P390</td>\n",
       "      <td>23.202</td>\n",
       "      <td>-0.706</td>\n",
       "      <td>0.004</td>\n",
       "      <td>-0.019</td>\n",
       "      <td>1.478</td>\n",
       "      <td>-2.943</td>\n",
       "      <td>1135</td>\n",
       "      <td>390</td>\n",
       "    </tr>\n",
       "  </tbody>\n",
       "</table>\n",
       "<p>1740 rows × 10 columns</p>\n",
       "</div>"
      ],
      "text/plain": [
       "     putCall          symbol volatility  delta  gamma  theta   vega    rho  \\\n",
       "0       CALL  QQQ_050422C304     42.111  0.954  0.011 -0.269  0.021  0.013   \n",
       "1       CALL  QQQ_050422C305     41.703  0.943  0.013 -0.312  0.025  0.013   \n",
       "2       CALL  QQQ_050422C306     41.796  0.929  0.015 -0.374  0.029  0.013   \n",
       "3       CALL  QQQ_050422C307     41.531  0.913  0.018 -0.431  0.034  0.013   \n",
       "4       CALL  QQQ_050422C308     41.359  0.894  0.021 -0.494   0.04  0.013   \n",
       "...      ...             ...        ...    ...    ...    ...    ...    ...   \n",
       "1735     PUT  QQQ_011924P370     23.922 -0.623  0.004 -0.023  1.631 -3.004   \n",
       "1736     PUT  QQQ_011924P375      23.73 -0.644  0.004 -0.022    1.6 -3.008   \n",
       "1737     PUT  QQQ_011924P380     23.547 -0.665  0.004 -0.021  1.565     -3   \n",
       "1738     PUT  QQQ_011924P385     23.377 -0.686  0.004  -0.02  1.524 -2.979   \n",
       "1739     PUT  QQQ_011924P390     23.202 -0.706  0.004 -0.019  1.478 -2.943   \n",
       "\n",
       "     openInterest strikePrice  \n",
       "0              32         304  \n",
       "1             119         305  \n",
       "2              58         306  \n",
       "3             177         307  \n",
       "4             101         308  \n",
       "...           ...         ...  \n",
       "1735          327         370  \n",
       "1736          321         375  \n",
       "1737         1769         380  \n",
       "1738         1931         385  \n",
       "1739         1135         390  \n",
       "\n",
       "[1740 rows x 10 columns]"
      ]
     },
     "execution_count": 35,
     "metadata": {},
     "output_type": "execute_result"
    }
   ],
   "source": [
    "selected"
   ]
  },
  {
   "cell_type": "code",
   "execution_count": 36,
   "metadata": {
    "scrolled": true
   },
   "outputs": [],
   "source": [
    "# optionsChain.iat[0,12]"
   ]
  },
  {
   "cell_type": "code",
   "execution_count": 37,
   "metadata": {
    "scrolled": true
   },
   "outputs": [],
   "source": [
    "# optionsChain.iat[0,1811]"
   ]
  },
  {
   "cell_type": "code",
   "execution_count": 38,
   "metadata": {
    "scrolled": true
   },
   "outputs": [],
   "source": [
    "# optionsChain.iat[0,12][0]"
   ]
  },
  {
   "cell_type": "code",
   "execution_count": 39,
   "metadata": {},
   "outputs": [],
   "source": [
    "# selected['symbol'][0]"
   ]
  },
  {
   "cell_type": "code",
   "execution_count": 40,
   "metadata": {
    "scrolled": true
   },
   "outputs": [],
   "source": [
    "# a = selected['symbol'][0]\n",
    "# a[4:10]"
   ]
  },
  {
   "cell_type": "code",
   "execution_count": 41,
   "metadata": {},
   "outputs": [],
   "source": [
    "# month = a[4:6]\n",
    "# day = a[6:8]\n",
    "# year = a[8:10]\n",
    "# print(month, day, year)"
   ]
  },
  {
   "cell_type": "code",
   "execution_count": 42,
   "metadata": {},
   "outputs": [
    {
     "name": "stdout",
     "output_type": "stream",
     "text": [
      "{'011924', '050622', '033123', '051822', '061022', '091622', '050422', '061623', '051622', '121523', '123022', '050922', '071522', '031723', '052322', '060122', '093022', '012023', '052522', '052022', '051122', '052722', '061722', '051322', '053122', '081922', '063022', '060322', '121622'}\n"
     ]
    }
   ],
   "source": [
    "# create set for use with dataFrame creation loop (name of dfs = date portion of 'symbol')\n",
    "dateSet = set()\n",
    "for i in selected['symbol']:\n",
    "#     print(selected['symbol'][4:10])\n",
    "#     print(i[4:10])\n",
    "    a = i[4:10]\n",
    "    dateSet.add(a)\n",
    "print(dateSet)"
   ]
  },
  {
   "cell_type": "code",
   "execution_count": 43,
   "metadata": {
    "scrolled": true
   },
   "outputs": [
    {
     "data": {
      "text/plain": [
       "{'011924',\n",
       " '012023',\n",
       " '031723',\n",
       " '033123',\n",
       " '050422',\n",
       " '050622',\n",
       " '050922',\n",
       " '051122',\n",
       " '051322',\n",
       " '051622',\n",
       " '051822',\n",
       " '052022',\n",
       " '052322',\n",
       " '052522',\n",
       " '052722',\n",
       " '053122',\n",
       " '060122',\n",
       " '060322',\n",
       " '061022',\n",
       " '061623',\n",
       " '061722',\n",
       " '063022',\n",
       " '071522',\n",
       " '081922',\n",
       " '091622',\n",
       " '093022',\n",
       " '121523',\n",
       " '121622',\n",
       " '123022'}"
      ]
     },
     "execution_count": 43,
     "metadata": {},
     "output_type": "execute_result"
    }
   ],
   "source": [
    "dateSet"
   ]
  },
  {
   "cell_type": "code",
   "execution_count": 44,
   "metadata": {
    "scrolled": true
   },
   "outputs": [],
   "source": [
    "d = {}\n",
    "for name in dateSet:\n",
    "    d[name] = pd.DataFrame(columns = categories, dtype = object)"
   ]
  },
  {
   "cell_type": "code",
   "execution_count": 45,
   "metadata": {},
   "outputs": [
    {
     "data": {
      "text/plain": [
       "{'011924': Empty DataFrame\n",
       " Columns: [putCall, symbol, volatility, delta, gamma, theta, vega, rho, openInterest, strikePrice]\n",
       " Index: [],\n",
       " '050622': Empty DataFrame\n",
       " Columns: [putCall, symbol, volatility, delta, gamma, theta, vega, rho, openInterest, strikePrice]\n",
       " Index: [],\n",
       " '033123': Empty DataFrame\n",
       " Columns: [putCall, symbol, volatility, delta, gamma, theta, vega, rho, openInterest, strikePrice]\n",
       " Index: [],\n",
       " '051822': Empty DataFrame\n",
       " Columns: [putCall, symbol, volatility, delta, gamma, theta, vega, rho, openInterest, strikePrice]\n",
       " Index: [],\n",
       " '061022': Empty DataFrame\n",
       " Columns: [putCall, symbol, volatility, delta, gamma, theta, vega, rho, openInterest, strikePrice]\n",
       " Index: [],\n",
       " '091622': Empty DataFrame\n",
       " Columns: [putCall, symbol, volatility, delta, gamma, theta, vega, rho, openInterest, strikePrice]\n",
       " Index: [],\n",
       " '050422': Empty DataFrame\n",
       " Columns: [putCall, symbol, volatility, delta, gamma, theta, vega, rho, openInterest, strikePrice]\n",
       " Index: [],\n",
       " '061623': Empty DataFrame\n",
       " Columns: [putCall, symbol, volatility, delta, gamma, theta, vega, rho, openInterest, strikePrice]\n",
       " Index: [],\n",
       " '051622': Empty DataFrame\n",
       " Columns: [putCall, symbol, volatility, delta, gamma, theta, vega, rho, openInterest, strikePrice]\n",
       " Index: [],\n",
       " '121523': Empty DataFrame\n",
       " Columns: [putCall, symbol, volatility, delta, gamma, theta, vega, rho, openInterest, strikePrice]\n",
       " Index: [],\n",
       " '123022': Empty DataFrame\n",
       " Columns: [putCall, symbol, volatility, delta, gamma, theta, vega, rho, openInterest, strikePrice]\n",
       " Index: [],\n",
       " '050922': Empty DataFrame\n",
       " Columns: [putCall, symbol, volatility, delta, gamma, theta, vega, rho, openInterest, strikePrice]\n",
       " Index: [],\n",
       " '071522': Empty DataFrame\n",
       " Columns: [putCall, symbol, volatility, delta, gamma, theta, vega, rho, openInterest, strikePrice]\n",
       " Index: [],\n",
       " '031723': Empty DataFrame\n",
       " Columns: [putCall, symbol, volatility, delta, gamma, theta, vega, rho, openInterest, strikePrice]\n",
       " Index: [],\n",
       " '052322': Empty DataFrame\n",
       " Columns: [putCall, symbol, volatility, delta, gamma, theta, vega, rho, openInterest, strikePrice]\n",
       " Index: [],\n",
       " '060122': Empty DataFrame\n",
       " Columns: [putCall, symbol, volatility, delta, gamma, theta, vega, rho, openInterest, strikePrice]\n",
       " Index: [],\n",
       " '093022': Empty DataFrame\n",
       " Columns: [putCall, symbol, volatility, delta, gamma, theta, vega, rho, openInterest, strikePrice]\n",
       " Index: [],\n",
       " '012023': Empty DataFrame\n",
       " Columns: [putCall, symbol, volatility, delta, gamma, theta, vega, rho, openInterest, strikePrice]\n",
       " Index: [],\n",
       " '052522': Empty DataFrame\n",
       " Columns: [putCall, symbol, volatility, delta, gamma, theta, vega, rho, openInterest, strikePrice]\n",
       " Index: [],\n",
       " '052022': Empty DataFrame\n",
       " Columns: [putCall, symbol, volatility, delta, gamma, theta, vega, rho, openInterest, strikePrice]\n",
       " Index: [],\n",
       " '051122': Empty DataFrame\n",
       " Columns: [putCall, symbol, volatility, delta, gamma, theta, vega, rho, openInterest, strikePrice]\n",
       " Index: [],\n",
       " '052722': Empty DataFrame\n",
       " Columns: [putCall, symbol, volatility, delta, gamma, theta, vega, rho, openInterest, strikePrice]\n",
       " Index: [],\n",
       " '061722': Empty DataFrame\n",
       " Columns: [putCall, symbol, volatility, delta, gamma, theta, vega, rho, openInterest, strikePrice]\n",
       " Index: [],\n",
       " '051322': Empty DataFrame\n",
       " Columns: [putCall, symbol, volatility, delta, gamma, theta, vega, rho, openInterest, strikePrice]\n",
       " Index: [],\n",
       " '053122': Empty DataFrame\n",
       " Columns: [putCall, symbol, volatility, delta, gamma, theta, vega, rho, openInterest, strikePrice]\n",
       " Index: [],\n",
       " '081922': Empty DataFrame\n",
       " Columns: [putCall, symbol, volatility, delta, gamma, theta, vega, rho, openInterest, strikePrice]\n",
       " Index: [],\n",
       " '063022': Empty DataFrame\n",
       " Columns: [putCall, symbol, volatility, delta, gamma, theta, vega, rho, openInterest, strikePrice]\n",
       " Index: [],\n",
       " '060322': Empty DataFrame\n",
       " Columns: [putCall, symbol, volatility, delta, gamma, theta, vega, rho, openInterest, strikePrice]\n",
       " Index: [],\n",
       " '121622': Empty DataFrame\n",
       " Columns: [putCall, symbol, volatility, delta, gamma, theta, vega, rho, openInterest, strikePrice]\n",
       " Index: []}"
      ]
     },
     "execution_count": 45,
     "metadata": {},
     "output_type": "execute_result"
    }
   ],
   "source": [
    "d"
   ]
  },
  {
   "cell_type": "code",
   "execution_count": 46,
   "metadata": {},
   "outputs": [],
   "source": [
    "testDF = pd.DataFrame(columns = categories, dtype = object)"
   ]
  },
  {
   "cell_type": "code",
   "execution_count": 47,
   "metadata": {},
   "outputs": [],
   "source": [
    "# Iterate through selected DF and put all rows of specific date into one new dataframe\n",
    "counter = 0\n",
    "for i in selected['symbol']:\n",
    "    if '050222' in i:\n",
    "            testDF.loc[len(testDF.index)] = selected.loc[counter]\n",
    "    counter+=1"
   ]
  },
  {
   "cell_type": "code",
   "execution_count": 48,
   "metadata": {
    "scrolled": true
   },
   "outputs": [
    {
     "data": {
      "text/html": [
       "<div>\n",
       "<style scoped>\n",
       "    .dataframe tbody tr th:only-of-type {\n",
       "        vertical-align: middle;\n",
       "    }\n",
       "\n",
       "    .dataframe tbody tr th {\n",
       "        vertical-align: top;\n",
       "    }\n",
       "\n",
       "    .dataframe thead th {\n",
       "        text-align: right;\n",
       "    }\n",
       "</style>\n",
       "<table border=\"1\" class=\"dataframe\">\n",
       "  <thead>\n",
       "    <tr style=\"text-align: right;\">\n",
       "      <th></th>\n",
       "      <th>putCall</th>\n",
       "      <th>symbol</th>\n",
       "      <th>volatility</th>\n",
       "      <th>delta</th>\n",
       "      <th>gamma</th>\n",
       "      <th>theta</th>\n",
       "      <th>vega</th>\n",
       "      <th>rho</th>\n",
       "      <th>openInterest</th>\n",
       "      <th>strikePrice</th>\n",
       "    </tr>\n",
       "  </thead>\n",
       "  <tbody>\n",
       "  </tbody>\n",
       "</table>\n",
       "</div>"
      ],
      "text/plain": [
       "Empty DataFrame\n",
       "Columns: [putCall, symbol, volatility, delta, gamma, theta, vega, rho, openInterest, strikePrice]\n",
       "Index: []"
      ]
     },
     "execution_count": 48,
     "metadata": {},
     "output_type": "execute_result"
    }
   ],
   "source": [
    "testDF"
   ]
  },
  {
   "cell_type": "code",
   "execution_count": 49,
   "metadata": {},
   "outputs": [],
   "source": [
    "testDF['isCall'] = 1"
   ]
  },
  {
   "cell_type": "code",
   "execution_count": 50,
   "metadata": {},
   "outputs": [],
   "source": [
    "#categorize puts and calls with 1 hot for 1 = CALL\n",
    "counter = 0\n",
    "for i in testDF['putCall']:\n",
    "    if i == 'PUT':\n",
    "        testDF.at[counter,'isCall'] = 0\n",
    "    counter+=1"
   ]
  },
  {
   "cell_type": "code",
   "execution_count": 51,
   "metadata": {
    "scrolled": true
   },
   "outputs": [
    {
     "data": {
      "text/html": [
       "<div>\n",
       "<style scoped>\n",
       "    .dataframe tbody tr th:only-of-type {\n",
       "        vertical-align: middle;\n",
       "    }\n",
       "\n",
       "    .dataframe tbody tr th {\n",
       "        vertical-align: top;\n",
       "    }\n",
       "\n",
       "    .dataframe thead th {\n",
       "        text-align: right;\n",
       "    }\n",
       "</style>\n",
       "<table border=\"1\" class=\"dataframe\">\n",
       "  <thead>\n",
       "    <tr style=\"text-align: right;\">\n",
       "      <th></th>\n",
       "      <th>putCall</th>\n",
       "      <th>symbol</th>\n",
       "      <th>volatility</th>\n",
       "      <th>delta</th>\n",
       "      <th>gamma</th>\n",
       "      <th>theta</th>\n",
       "      <th>vega</th>\n",
       "      <th>rho</th>\n",
       "      <th>openInterest</th>\n",
       "      <th>strikePrice</th>\n",
       "      <th>isCall</th>\n",
       "    </tr>\n",
       "  </thead>\n",
       "  <tbody>\n",
       "  </tbody>\n",
       "</table>\n",
       "</div>"
      ],
      "text/plain": [
       "Empty DataFrame\n",
       "Columns: [putCall, symbol, volatility, delta, gamma, theta, vega, rho, openInterest, strikePrice, isCall]\n",
       "Index: []"
      ]
     },
     "execution_count": 51,
     "metadata": {},
     "output_type": "execute_result"
    }
   ],
   "source": [
    "testDF"
   ]
  },
  {
   "cell_type": "code",
   "execution_count": 52,
   "metadata": {},
   "outputs": [
    {
     "data": {
      "text/html": [
       "<div>\n",
       "<style scoped>\n",
       "    .dataframe tbody tr th:only-of-type {\n",
       "        vertical-align: middle;\n",
       "    }\n",
       "\n",
       "    .dataframe tbody tr th {\n",
       "        vertical-align: top;\n",
       "    }\n",
       "\n",
       "    .dataframe thead th {\n",
       "        text-align: right;\n",
       "    }\n",
       "</style>\n",
       "<table border=\"1\" class=\"dataframe\">\n",
       "  <thead>\n",
       "    <tr style=\"text-align: right;\">\n",
       "      <th></th>\n",
       "      <th>putCall</th>\n",
       "      <th>symbol</th>\n",
       "      <th>volatility</th>\n",
       "      <th>delta</th>\n",
       "      <th>gamma</th>\n",
       "      <th>theta</th>\n",
       "      <th>vega</th>\n",
       "      <th>rho</th>\n",
       "      <th>openInterest</th>\n",
       "      <th>strikePrice</th>\n",
       "      <th>isCall</th>\n",
       "    </tr>\n",
       "  </thead>\n",
       "  <tbody>\n",
       "  </tbody>\n",
       "</table>\n",
       "</div>"
      ],
      "text/plain": [
       "Empty DataFrame\n",
       "Columns: [putCall, symbol, volatility, delta, gamma, theta, vega, rho, openInterest, strikePrice, isCall]\n",
       "Index: []"
      ]
     },
     "execution_count": 52,
     "metadata": {},
     "output_type": "execute_result"
    }
   ],
   "source": [
    "testDF.loc[testDF['putCall'] == 'CALL']"
   ]
  },
  {
   "cell_type": "code",
   "execution_count": 53,
   "metadata": {},
   "outputs": [
    {
     "data": {
      "text/plain": [
       "'cycle through all dates; add them to set; turn into list; create new dfs with list; place relevant items into relevant list'"
      ]
     },
     "execution_count": 53,
     "metadata": {},
     "output_type": "execute_result"
    }
   ],
   "source": [
    "'''cycle through all dates; add them to set; turn into list; create new dfs with list; place relevant items into relevant list'''"
   ]
  }
 ],
 "metadata": {
  "kernelspec": {
   "display_name": "Python 3",
   "language": "python",
   "name": "python3"
  },
  "language_info": {
   "codemirror_mode": {
    "name": "ipython",
    "version": 3
   },
   "file_extension": ".py",
   "mimetype": "text/x-python",
   "name": "python",
   "nbconvert_exporter": "python",
   "pygments_lexer": "ipython3",
   "version": "3.8.1"
  }
 },
 "nbformat": 4,
 "nbformat_minor": 4
}
