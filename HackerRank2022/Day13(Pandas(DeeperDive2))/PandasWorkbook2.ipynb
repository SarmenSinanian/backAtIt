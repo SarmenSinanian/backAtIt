{
 "cells": [
  {
   "cell_type": "code",
   "execution_count": 1,
   "metadata": {},
   "outputs": [],
   "source": [
    "import pandas as pd\n",
    "import numpy as np"
   ]
  },
  {
   "cell_type": "code",
   "execution_count": 3,
   "metadata": {},
   "outputs": [
    {
     "name": "stdout",
     "output_type": "stream",
     "text": [
      "  Alpaca Bird Camel\n",
      "0     A1   B1    C1\n",
      "1     A2   B2    C2\n",
      "2     A3   B3    C3\n",
      "  Bird Camel Duck\n",
      "3   B3    C3   D3\n",
      "4   B4    C4   D4\n",
      "5   B5    C5   D5\n",
      "  Alpaca Bird Camel Duck\n",
      "0     A1   B1    C1  NaN\n",
      "1     A2   B2    C2  NaN\n",
      "2     A3   B3    C3  NaN\n",
      "3    NaN   B3    C3   D3\n",
      "4    NaN   B4    C4   D4\n",
      "5    NaN   B5    C5   D5\n"
     ]
    }
   ],
   "source": [
    "data = {'Alpaca':['A1', 'A2', 'A3'], 'Bird':['B1', 'B2', 'B3'],\n",
    "        'Camel':['C1', 'C2', 'C3']} \n",
    "df = pd.DataFrame(data)\n",
    "print(df)\n",
    "\n",
    "data1 = {'Bird':['B3', 'B4', 'B5'], 'Camel':['C3', 'C4', 'C5'],\n",
    "        'Duck':['D3', 'D4', 'D5']} \n",
    "df1 = pd.DataFrame(data1, index=[3,4,5])\n",
    "print(df1)\n",
    "\n",
    "# Concatenate with default join='outer'\n",
    "# (sort=False is used to suppress the warning that\n",
    "# future pandas will no longer sort the rows) \n",
    "print(pd.concat([df, df1], sort=False))"
   ]
  },
  {
   "cell_type": "code",
   "execution_count": null,
   "metadata": {},
   "outputs": [],
   "source": []
  }
 ],
 "metadata": {
  "kernelspec": {
   "display_name": "Python 3",
   "language": "python",
   "name": "python3"
  },
  "language_info": {
   "codemirror_mode": {
    "name": "ipython",
    "version": 3
   },
   "file_extension": ".py",
   "mimetype": "text/x-python",
   "name": "python",
   "nbconvert_exporter": "python",
   "pygments_lexer": "ipython3",
   "version": "3.8.1"
  }
 },
 "nbformat": 4,
 "nbformat_minor": 4
}
